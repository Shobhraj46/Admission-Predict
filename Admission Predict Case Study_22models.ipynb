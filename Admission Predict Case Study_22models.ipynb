{
 "cells": [
  {
   "cell_type": "markdown",
   "metadata": {
    "id": "dvbpvs6sdSNv"
   },
   "source": [
    "# Admission Predict Case Study**"
   ]
  },
  {
   "cell_type": "code",
   "execution_count": null,
   "metadata": {
    "id": "ZEZQAJpksvRa"
   },
   "outputs": [],
   "source": [
    "import numpy as np\n",
    "import pandas as pd\n",
    "import seaborn as sns\n",
    "import matplotlib.pyplot as plt"
   ]
  },
  {
   "cell_type": "code",
   "execution_count": null,
   "metadata": {
    "colab": {
     "base_uri": "https://localhost:8080/",
     "height": 206
    },
    "id": "jSfFRbTUtSib",
    "outputId": "2c5548b7-2d54-44c9-a31e-90740df22c93"
   },
   "outputs": [],
   "source": [
    "df=pd.read_csv(\"Admission_Predict.csv\")\n",
    "df.head()"
   ]
  },
  {
   "cell_type": "code",
   "execution_count": 231,
   "metadata": {
    "colab": {
     "base_uri": "https://localhost:8080/"
    },
    "id": "G6b83KxWtmKQ",
    "outputId": "918f2874-8eee-4cd5-fe15-0ca86f356766"
   },
   "outputs": [
    {
     "data": {
      "text/plain": [
       "(400, 9)"
      ]
     },
     "execution_count": 231,
     "metadata": {},
     "output_type": "execute_result"
    }
   ],
   "source": [
    "df.shape"
   ]
  },
  {
   "cell_type": "code",
   "execution_count": 232,
   "metadata": {
    "colab": {
     "base_uri": "https://localhost:8080/"
    },
    "id": "8BBM2DCttn9I",
    "outputId": "22d38156-eada-440f-fe3e-8883bbeddac3"
   },
   "outputs": [
    {
     "data": {
      "text/plain": [
       "Serial No.           0\n",
       "GRE Score            0\n",
       "TOEFL Score          0\n",
       "University Rating    0\n",
       "SOP                  0\n",
       "LOR                  0\n",
       "CGPA                 0\n",
       "Research             0\n",
       "Chance of Admit      0\n",
       "dtype: int64"
      ]
     },
     "execution_count": 232,
     "metadata": {},
     "output_type": "execute_result"
    }
   ],
   "source": [
    "df.isnull().sum()"
   ]
  },
  {
   "cell_type": "code",
   "execution_count": 233,
   "metadata": {
    "colab": {
     "base_uri": "https://localhost:8080/"
    },
    "id": "WeQ3kH4vuF6o",
    "outputId": "1f0d1133-bcb3-4482-e0b7-cf0eec43e63e"
   },
   "outputs": [
    {
     "name": "stdout",
     "output_type": "stream",
     "text": [
      "<class 'pandas.core.frame.DataFrame'>\n",
      "RangeIndex: 400 entries, 0 to 399\n",
      "Data columns (total 9 columns):\n",
      " #   Column             Non-Null Count  Dtype  \n",
      "---  ------             --------------  -----  \n",
      " 0   Serial No.         400 non-null    int64  \n",
      " 1   GRE Score          400 non-null    int64  \n",
      " 2   TOEFL Score        400 non-null    int64  \n",
      " 3   University Rating  400 non-null    int64  \n",
      " 4   SOP                400 non-null    float64\n",
      " 5   LOR                400 non-null    float64\n",
      " 6   CGPA               400 non-null    float64\n",
      " 7   Research           400 non-null    int64  \n",
      " 8   Chance of Admit    400 non-null    int64  \n",
      "dtypes: float64(3), int64(6)\n",
      "memory usage: 28.2 KB\n"
     ]
    }
   ],
   "source": [
    "df.info()"
   ]
  },
  {
   "cell_type": "code",
   "execution_count": null,
   "metadata": {
    "colab": {
     "base_uri": "https://localhost:8080/",
     "height": 206
    },
    "id": "Bj1AMAi8uIbg",
    "outputId": "e8737475-df73-438d-8a86-d2e923c2a39c"
   },
   "outputs": [],
   "source": [
    "df.drop('Serial No.', axis =1, inplace=True)\n",
    "df.head()"
   ]
  },
  {
   "cell_type": "code",
   "execution_count": null,
   "metadata": {
    "colab": {
     "base_uri": "https://localhost:8080/"
    },
    "id": "UseWrUR8u2IZ",
    "outputId": "c1973e56-06ff-48ef-861b-a99dd8d2e987"
   },
   "outputs": [],
   "source": [
    "df.columns\n"
   ]
  },
  {
   "cell_type": "code",
   "execution_count": null,
   "metadata": {
    "id": "MptvhHv9udu4"
   },
   "outputs": [],
   "source": [
    "X= df.drop('Chance of Admit',axis=1)\n",
    "y =df['Chance of Admit']"
   ]
  },
  {
   "cell_type": "code",
   "execution_count": null,
   "metadata": {
    "id": "L8YPTpe_vC3x"
   },
   "outputs": [],
   "source": [
    "from sklearn.model_selection import train_test_split\n",
    "xtrain,xtest,ytrain,ytest = train_test_split(X,y,\n",
    "                                             test_size=0.20,\n",
    "                                             random_state=10)"
   ]
  },
  {
   "cell_type": "code",
   "execution_count": null,
   "metadata": {
    "colab": {
     "base_uri": "https://localhost:8080/"
    },
    "id": "snAHdJMkDr1n",
    "outputId": "005b94ad-0e1d-4bd1-9879-77ed605b434f"
   },
   "outputs": [],
   "source": [
    "ytrain.value_counts(normalize=True)\n",
    "# This seems to be balanced dataset."
   ]
  },
  {
   "cell_type": "code",
   "execution_count": null,
   "metadata": {
    "colab": {
     "base_uri": "https://localhost:8080/"
    },
    "id": "yyq8dHxPv7BH",
    "outputId": "1ea728fb-4d83-4219-aa09-58dad1139bb8"
   },
   "outputs": [],
   "source": [
    "xtrain.columns"
   ]
  },
  {
   "cell_type": "code",
   "execution_count": null,
   "metadata": {
    "id": "Uo1EA0qov6-r"
   },
   "outputs": [],
   "source": [
    "import statsmodels.api as sm\n",
    "\n",
    "xtrain_c=sm.add_constant(xtrain)\n",
    "xtest_c=sm.add_constant(xtest)"
   ]
  },
  {
   "cell_type": "code",
   "execution_count": null,
   "metadata": {
    "colab": {
     "base_uri": "https://localhost:8080/"
    },
    "id": "nDf8Xf0cv68Y",
    "outputId": "6e6b08b9-d3c4-48de-899a-4b8b6332d19e"
   },
   "outputs": [],
   "source": [
    "xtrain_c.columns"
   ]
  },
  {
   "cell_type": "code",
   "execution_count": null,
   "metadata": {
    "colab": {
     "base_uri": "https://localhost:8080/"
    },
    "id": "djInC5l2vlyg",
    "outputId": "44678f39-2aa5-4c2a-9684-a9f4541d2150"
   },
   "outputs": [],
   "source": [
    "logreg =sm.Logit(ytrain,xtrain_c).fit()\n",
    "print(logreg.summary())"
   ]
  },
  {
   "cell_type": "markdown",
   "metadata": {
    "id": "pHJN2JfRxWRq"
   },
   "source": [
    "1. Except for CGPA, all the variables are insignificant.\n",
    "2. The weight for CGPA is the heighest. Max weight is given to CGPA whereas other variables have very less weights."
   ]
  },
  {
   "cell_type": "markdown",
   "metadata": {
    "id": "cFDKl9xBlipL"
   },
   "source": [
    "**Significance of the variables**"
   ]
  },
  {
   "cell_type": "code",
   "execution_count": null,
   "metadata": {
    "colab": {
     "base_uri": "https://localhost:8080/"
    },
    "id": "3DM99Zv2lomk",
    "outputId": "cb48b214-3ac8-4429-ed7b-b3a1a409be98"
   },
   "outputs": [],
   "source": [
    "# H0 : beta value is significant\n",
    "# Reject H0 if pvalue < 0.05\n",
    "# H0 is betai's is not significant betai = 0\n",
    "# here pval>0.05 so we fail to reject H0 ie the coeffs are not significant\n",
    "\n",
    "# only CGPA is signofocant\n",
    "0.6095/0.447\n",
    "\n",
    "# wherever the pvalue<0.05 those coefficients are significant or those features are significant"
   ]
  },
  {
   "cell_type": "markdown",
   "metadata": {
    "id": "W331jPoilyIS"
   },
   "source": [
    "**Overall Significance of the Model**"
   ]
  },
  {
   "cell_type": "code",
   "execution_count": null,
   "metadata": {
    "colab": {
     "base_uri": "https://localhost:8080/"
    },
    "id": "VI_O_8l6lpPU",
    "outputId": "8aa5faac-653a-43a9-f7e8-b5d131d74bf4"
   },
   "outputs": [],
   "source": [
    "# Look at the llr_pvalue\n",
    "# if this value is less than 0.05 then the overall model is significant\n",
    "\n",
    "\n",
    "# H0: Logistic Model is Insignificant.\n",
    "# Ha :Logistic Model is Significant.\n",
    "\n",
    "logreg.llr_pvalue\n",
    "\n",
    "\n",
    "# slide 91, 92 LRT test"
   ]
  },
  {
   "cell_type": "markdown",
   "metadata": {
    "id": "QIER4tZ40sYX"
   },
   "source": [
    "**McFadden R2**"
   ]
  },
  {
   "cell_type": "markdown",
   "metadata": {
    "id": "kUi4jvl7oc-K"
   },
   "source": [
    " The `Pseudo R-squ.` above is the value of `McFadden's R-squared`.\n",
    "\n",
    "<p style='text-indent:25em'> <strong> McFadden's R-squared = $ 1 - \\frac{Log-Likelihood}{LL-Null} $</strong> </p>"
   ]
  },
  {
   "cell_type": "code",
   "execution_count": null,
   "metadata": {
    "colab": {
     "base_uri": "https://localhost:8080/"
    },
    "id": "DtZWvE0T0hsv",
    "outputId": "22fbae6a-96f1-43bf-993e-c63de900b5d3"
   },
   "outputs": [],
   "source": [
    "# Log LIkelihood of Full model / fitted model = -77.224\n",
    "# Log likelihood of Null Model = -219.78\n",
    "\n",
    "1- (-77.224/-219.78)"
   ]
  },
  {
   "cell_type": "markdown",
   "metadata": {
    "id": "ynAGKCeNHm3t"
   },
   "source": [
    "**AIC - Akaike Information Criteria**"
   ]
  },
  {
   "cell_type": "markdown",
   "metadata": {
    "id": "X6PIA31dq21M"
   },
   "source": [
    " The AIC is relative measure. To know if\n",
    "\n",
    "<p style='text-indent:25em'> <strong> AIC = $ -2({Log-Likelihood})\n",
    " + 2k$</strong> </p>"
   ]
  },
  {
   "cell_type": "markdown",
   "metadata": {
    "id": "yk5mViWGsJUw"
   },
   "source": [
    "**Interpretation of variables**"
   ]
  },
  {
   "cell_type": "markdown",
   "metadata": {
    "id": "KhHWNYr-sgc1"
   },
   "source": [
    "Interpretation in terms of Log(odds)"
   ]
  },
  {
   "cell_type": "code",
   "execution_count": null,
   "metadata": {
    "colab": {
     "base_uri": "https://localhost:8080/"
    },
    "id": "MnRml-XmsN2M",
    "outputId": "6aa6fc6a-b502-4b0e-d1c7-a3631a6311af"
   },
   "outputs": [],
   "source": [
    "logreg.params\n",
    "\n",
    "# Log(odds)=beta0+beta1 * X1 +beta2 * X2 +beta3 * X3\n",
    "# For every one unit change in X1  there is beta1 units change in Log(odds)"
   ]
  },
  {
   "cell_type": "markdown",
   "metadata": {
    "id": "jE_5lJyisl4n"
   },
   "source": [
    "Interpretation in terms of Odds"
   ]
  },
  {
   "cell_type": "code",
   "execution_count": null,
   "metadata": {
    "colab": {
     "base_uri": "https://localhost:8080/"
    },
    "id": "w_eU8n3MsNzF",
    "outputId": "73a0dcea-4537-4a55-fcbe-92bd06f45401"
   },
   "outputs": [],
   "source": [
    "odds= (np.exp(logreg.params))\n",
    "\n",
    "odds"
   ]
  },
  {
   "cell_type": "code",
   "execution_count": null,
   "metadata": {
    "id": "vGtmAHjxsNv-"
   },
   "outputs": [],
   "source": []
  },
  {
   "cell_type": "markdown",
   "metadata": {
    "id": "3at-eHEJxHUm"
   },
   "source": [
    "### Predict and Find the Model Performance Metrics"
   ]
  },
  {
   "cell_type": "code",
   "execution_count": null,
   "metadata": {
    "id": "lAcCmUmO07Dn"
   },
   "outputs": [],
   "source": [
    "ypred_prob= logreg.predict(xtest_c)"
   ]
  },
  {
   "cell_type": "code",
   "execution_count": null,
   "metadata": {
    "colab": {
     "base_uri": "https://localhost:8080/"
    },
    "id": "vfMm4vPy1esP",
    "outputId": "0774e4dc-5249-4ff9-d3fb-0894545c8bcd"
   },
   "outputs": [],
   "source": [
    "ypred_prob[0:5] # get the first 5 values of prediction"
   ]
  },
  {
   "cell_type": "code",
   "execution_count": null,
   "metadata": {
    "colab": {
     "base_uri": "https://localhost:8080/"
    },
    "id": "CGctN-811r2W",
    "outputId": "a5da9626-9d8c-4a76-c093-f273337d83db"
   },
   "outputs": [],
   "source": [
    "# using list comprehension\n",
    "ypred=[0 if i <=0.5 else 1 for i in ypred_prob]\n",
    "ypred[0:5]"
   ]
  },
  {
   "cell_type": "code",
   "execution_count": null,
   "metadata": {
    "colab": {
     "base_uri": "https://localhost:8080/"
    },
    "id": "uETX6w6h29Ao",
    "outputId": "0db99fd5-2fb9-4e9a-bb39-7585fe28a8b3"
   },
   "outputs": [],
   "source": [
    "ytest[0:5] # these are the actuals"
   ]
  },
  {
   "cell_type": "markdown",
   "metadata": {
    "id": "uXDkzTkM3SzJ"
   },
   "source": [
    "1. out of the 5 elements listed above, two are incorrect and 3 are right prediction.\n",
    "2. These are called as misclassification.\n",
    "3. If we take only these 5 elements, we can say that the accuracy is  3/5 which is 60%."
   ]
  },
  {
   "cell_type": "markdown",
   "metadata": {
    "id": "I0dWA6vHZWr2"
   },
   "source": [
    "#### Lets find the model accuracy"
   ]
  },
  {
   "cell_type": "code",
   "execution_count": null,
   "metadata": {
    "colab": {
     "base_uri": "https://localhost:8080/"
    },
    "id": "r5arSSKd3yrn",
    "outputId": "4945ed19-5c93-4968-b616-9af1d9379165"
   },
   "outputs": [],
   "source": [
    "from sklearn.metrics import accuracy_score\n",
    "accuracy_score(ytest,ypred)"
   ]
  },
  {
   "cell_type": "markdown",
   "metadata": {
    "id": "amE5G5J34LnH"
   },
   "source": [
    "The accuracy of the model is 82.5%"
   ]
  },
  {
   "cell_type": "code",
   "execution_count": null,
   "metadata": {
    "colab": {
     "base_uri": "https://localhost:8080/"
    },
    "id": "YDrmAdNSU74f",
    "outputId": "0bb5cd99-66d1-4eb9-922c-2c2e7010fa93"
   },
   "outputs": [],
   "source": [
    "np.log(0.497) + (np.log(0.558))"
   ]
  },
  {
   "cell_type": "code",
   "execution_count": null,
   "metadata": {
    "colab": {
     "base_uri": "https://localhost:8080/"
    },
    "id": "3zsKyPYpcEUF",
    "outputId": "cbfbff2e-1b4b-4524-9d4b-73a5a60e0b89"
   },
   "outputs": [],
   "source": [
    "from sklearn.metrics import confusion_matrix\n",
    "confusion_matrix(ytest,ypred)"
   ]
  },
  {
   "cell_type": "code",
   "execution_count": null,
   "metadata": {
    "id": "oSFCSvo0gzNd"
   },
   "outputs": [],
   "source": [
    "cm=confusion_matrix(ytest,ypred)"
   ]
  },
  {
   "cell_type": "code",
   "execution_count": null,
   "metadata": {
    "colab": {
     "base_uri": "https://localhost:8080/"
    },
    "id": "ptHB7UnUcofF",
    "outputId": "64d7cd15-4667-4a4c-8904-6032e0489e43"
   },
   "outputs": [],
   "source": [
    "(33+33)/ (33+5+9+33)"
   ]
  },
  {
   "cell_type": "code",
   "execution_count": null,
   "metadata": {
    "colab": {
     "base_uri": "https://localhost:8080/",
     "height": 676
    },
    "id": "14OiWguqgoGN",
    "outputId": "36b4b0ed-f2c7-49ac-a202-b29951e373c2"
   },
   "outputs": [],
   "source": [
    "import seaborn as sns\n",
    "conf_matrix = pd.DataFrame(data = cm,columns = ['Predicted:0','Predicted:1'], index = ['Actual:0','Actual:1'])\n",
    "sns.heatmap(conf_matrix,annot=True)\n",
    "plt.show()"
   ]
  },
  {
   "cell_type": "code",
   "execution_count": null,
   "metadata": {
    "colab": {
     "base_uri": "https://localhost:8080/"
    },
    "id": "UHnloWdRoIss",
    "outputId": "45461f6f-6af8-4885-e1ad-aba511203bf1"
   },
   "outputs": [],
   "source": [
    "cm"
   ]
  },
  {
   "cell_type": "code",
   "execution_count": null,
   "metadata": {
    "id": "HnZtLYk0oLJc"
   },
   "outputs": [],
   "source": [
    "TN = cm[0,0]\n",
    "FP =cm[0,1]\n",
    "FN = cm[1,0]\n",
    "TP = cm[1,1]"
   ]
  },
  {
   "cell_type": "code",
   "execution_count": null,
   "metadata": {
    "colab": {
     "base_uri": "https://localhost:8080/"
    },
    "id": "X4qD2H9_qji0",
    "outputId": "a8a6a9ac-446e-405b-92fb-9d039a78643f"
   },
   "outputs": [],
   "source": [
    "#sensitivity recall for positive class\n",
    "sensitivity = TP /(FN+TP)\n",
    "sensitivity"
   ]
  },
  {
   "cell_type": "code",
   "execution_count": null,
   "metadata": {
    "colab": {
     "base_uri": "https://localhost:8080/"
    },
    "id": "LicECfliq8_E",
    "outputId": "648b11fa-0330-4c7e-c605-66535f0c6b42"
   },
   "outputs": [],
   "source": [
    "#specificity recall for Negative class\n",
    "specificity = TN /(TN+FP)\n",
    "specificity"
   ]
  },
  {
   "cell_type": "code",
   "execution_count": null,
   "metadata": {
    "colab": {
     "base_uri": "https://localhost:8080/"
    },
    "id": "F2rmhsXwrcZk",
    "outputId": "d74777bf-baac-4b73-dd42-f022bd07aaa9"
   },
   "outputs": [],
   "source": [
    "from sklearn.metrics import recall_score\n",
    "recall_score(ytest,ypred)"
   ]
  },
  {
   "cell_type": "code",
   "execution_count": null,
   "metadata": {
    "id": "41gdejOR9fsI"
   },
   "outputs": [],
   "source": []
  },
  {
   "cell_type": "code",
   "execution_count": null,
   "metadata": {
    "colab": {
     "base_uri": "https://localhost:8080/"
    },
    "id": "CoM8FE5GruGT",
    "outputId": "ee2144d3-42f5-4a77-8ed5-1f932c223ec2"
   },
   "outputs": [],
   "source": [
    "from sklearn.metrics import classification_report\n",
    "print(classification_report(ytest,ypred))"
   ]
  },
  {
   "cell_type": "code",
   "execution_count": null,
   "metadata": {
    "colab": {
     "base_uri": "https://localhost:8080/"
    },
    "id": "LHBZrHQ25gan",
    "outputId": "1ef16ab7-1c69-4d29-aaa6-b4b796b24b77"
   },
   "outputs": [],
   "source": [
    "from sklearn.metrics import log_loss\n",
    "print(log_loss(ytest,ypred))"
   ]
  },
  {
   "cell_type": "markdown",
   "metadata": {
    "id": "pKNYZffN55Fi"
   },
   "source": [
    "**This is on the higher side. This value should be closed to 0.**"
   ]
  },
  {
   "cell_type": "code",
   "execution_count": null,
   "metadata": {
    "colab": {
     "base_uri": "https://localhost:8080/"
    },
    "id": "K2pNF8X29u6w",
    "outputId": "aec0bdb0-f914-4e25-9f10-1947821d8bac"
   },
   "outputs": [],
   "source": [
    "ypred_prob"
   ]
  },
  {
   "cell_type": "markdown",
   "metadata": {
    "id": "vaK1ohh096hK"
   },
   "source": [
    "**Print the first 5 rows**"
   ]
  },
  {
   "cell_type": "code",
   "execution_count": null,
   "metadata": {
    "id": "meqAkfjP9_i_"
   },
   "outputs": [],
   "source": [
    "from sklearn.metrics import roc_curve,roc_auc_score"
   ]
  },
  {
   "cell_type": "markdown",
   "metadata": {
    "id": "PkCcYdic-180"
   },
   "source": [
    "1. In all the above metrics- we were passing ytest and ypred. ypred is the label\n",
    "2. In ROC curve, we are passing ytest and ypred_prob. Here we pass the probabilities.\n",
    "3. We are focusing on positive class and not negative class.\n",
    "4. ROC curve gives us 3 set  values - First is FPR, Second -TPR and third -Threshold."
   ]
  },
  {
   "cell_type": "code",
   "execution_count": null,
   "metadata": {
    "colab": {
     "base_uri": "https://localhost:8080/"
    },
    "id": "MRYpih-e-nDX",
    "outputId": "da7821f2-135d-43c4-8aee-016776c48f4e"
   },
   "outputs": [],
   "source": [
    "print(roc_curve(ytest,ypred_prob))"
   ]
  },
  {
   "cell_type": "code",
   "execution_count": null,
   "metadata": {
    "id": "h07hN4qxASD_"
   },
   "outputs": [],
   "source": [
    "fpr,tpr,threshold =roc_curve(ytest,ypred_prob)"
   ]
  },
  {
   "cell_type": "markdown",
   "metadata": {
    "id": "NfhtK4VhAsZu"
   },
   "source": [
    "**Now plot - fpr, tpr**"
   ]
  },
  {
   "cell_type": "code",
   "execution_count": null,
   "metadata": {
    "colab": {
     "base_uri": "https://localhost:8080/",
     "height": 643
    },
    "id": "sgjy-wH6AxnV",
    "outputId": "48f60f4b-a7c6-4eed-eaec-d71e6ceaa651"
   },
   "outputs": [],
   "source": [
    "plt.plot(fpr,tpr)"
   ]
  },
  {
   "cell_type": "code",
   "execution_count": null,
   "metadata": {
    "colab": {
     "base_uri": "https://localhost:8080/",
     "height": 652
    },
    "id": "JfsOXDM3Bdv_",
    "outputId": "c4355cc3-eaa3-4be6-d48a-f3706a521ba6"
   },
   "outputs": [],
   "source": [
    "plt.plot(fpr,tpr)\n",
    "plt.xlabel('FPR')\n",
    "plt.ylabel('TPR')\n",
    "\n",
    "print(roc_auc_score(ytest,ypred_prob))"
   ]
  },
  {
   "cell_type": "markdown",
   "metadata": {
    "id": "PWz5SoGlGs91"
   },
   "source": [
    "**Reliability- cohen kappa score**"
   ]
  },
  {
   "cell_type": "code",
   "execution_count": null,
   "metadata": {
    "colab": {
     "base_uri": "https://localhost:8080/"
    },
    "id": "TR_NQ5YeGx1s",
    "outputId": "47981291-bff3-47ca-c658-38be1818320a"
   },
   "outputs": [],
   "source": [
    "from sklearn.metrics import cohen_kappa_score\n",
    "print(cohen_kappa_score(ytest,ypred))"
   ]
  },
  {
   "cell_type": "markdown",
   "metadata": {
    "id": "BDu7AmZtHC59"
   },
   "source": [
    "This is pretty good reliability for the model."
   ]
  },
  {
   "cell_type": "markdown",
   "metadata": {
    "id": "vmbhajF3IOsV"
   },
   "source": [
    "1. Only in AUC, ROC -We use probability and not in all others"
   ]
  },
  {
   "cell_type": "markdown",
   "metadata": {
    "id": "d8fm378qCKhY"
   },
   "source": [
    "**All at one Summary Table**"
   ]
  },
  {
   "cell_type": "code",
   "execution_count": null,
   "metadata": {
    "id": "IUdLKNaLwPHg"
   },
   "outputs": [],
   "source": [
    "from sklearn.metrics import recall_score,precision_score,f1_score"
   ]
  },
  {
   "cell_type": "code",
   "execution_count": null,
   "metadata": {
    "id": "ARmw5i07IR4M"
   },
   "outputs": [],
   "source": [
    "# create an empty dataframe to store the scores for various algorithms\n",
    "perf_score = pd.DataFrame(columns=[\"Model\", \"Accuracy\",\"Recall\",\"Precision\",\"F1 Score\"] )"
   ]
  },
  {
   "cell_type": "code",
   "execution_count": null,
   "metadata": {
    "id": "7PwYlrUHIRj6"
   },
   "outputs": [],
   "source": [
    "def per_measures(model,test,pred):\n",
    "\n",
    "\n",
    "  accuracy    =accuracy_score(test,pred)\n",
    "  f1score     =f1_score(test,pred)\n",
    "  recall      =recall_score(test,pred)\n",
    "  precision   =precision_score(test,pred)\n",
    "  # aic         =model.aic\n",
    "  # reliability = cohen_kappa_score(test,pred)\n",
    "\n",
    "\n",
    "\n",
    "  return (accuracy,recall,precision,f1score,)"
   ]
  },
  {
   "cell_type": "code",
   "execution_count": null,
   "metadata": {
    "id": "iDEYPAy9HOCT"
   },
   "outputs": [],
   "source": [
    "def update_performance (name,\n",
    "                        model,\n",
    "                        test,\n",
    "                        pred\n",
    "                           ):\n",
    "\n",
    "    # assign 'comp_perf' as global variable\n",
    "    global perf_score\n",
    "\n",
    "\n",
    "    # append the results to the dataframe 'score_card'\n",
    "    # 'ignore_index = True' do not consider the index labels\n",
    "    perf_score = perf_score.append({'Model'       : name,\n",
    "                                    'Accuracy'    : per_measures(model,test,pred)[0],\n",
    "                                    'Recall'      : per_measures(model,test,pred)[1],\n",
    "                                    'Precision'   : per_measures(model,test,pred)[2],\n",
    "                                    'F1 Score'    : per_measures(model,test,pred)[3]\n",
    "                                    # 'AIC'         : per_measures(model,ytest,ypred)[4],\n",
    "                                    # 'Reliability' : per_measures(model,ytest,ypred)[5]\n",
    "\n",
    "                                     },\n",
    "                                   ignore_index = True)"
   ]
  },
  {
   "cell_type": "code",
   "execution_count": null,
   "metadata": {
    "colab": {
     "base_uri": "https://localhost:8080/",
     "height": 89
    },
    "id": "bDYnbHLlHNxh",
    "outputId": "cec55acf-a7ee-464c-88b3-3b089591df7d"
   },
   "outputs": [],
   "source": [
    "update_performance(name = 'LogisticReg-Base', model = logreg,test=ytest,pred=ypred)\n",
    "\n",
    "# print the dataframe\n",
    "perf_score"
   ]
  },
  {
   "cell_type": "code",
   "execution_count": null,
   "metadata": {
    "id": "TU27DY-VHNeY"
   },
   "outputs": [],
   "source": []
  },
  {
   "cell_type": "markdown",
   "metadata": {
    "id": "86jiU8M_xuKF"
   },
   "source": [
    "## Can the Performance enhanced using cut off values"
   ]
  },
  {
   "cell_type": "code",
   "execution_count": null,
   "metadata": {
    "colab": {
     "base_uri": "https://localhost:8080/"
    },
    "id": "eZ3teE4720N0",
    "outputId": "ae6db5c1-5463-4b39-a941-13dcc8bff2df"
   },
   "outputs": [],
   "source": [
    "xtest.shape"
   ]
  },
  {
   "cell_type": "code",
   "execution_count": null,
   "metadata": {
    "colab": {
     "base_uri": "https://localhost:8080/"
    },
    "id": "WQA56mAF23Py",
    "outputId": "b4fbc4c9-8f0c-4258-c58e-1d95b2ff6ca0"
   },
   "outputs": [],
   "source": [
    "ytest.shape"
   ]
  },
  {
   "cell_type": "code",
   "execution_count": null,
   "metadata": {
    "colab": {
     "base_uri": "https://localhost:8080/"
    },
    "id": "cq6dg3TX6vI6",
    "outputId": "e2f59b19-1a73-4335-caf8-d6245b04f11d"
   },
   "outputs": [],
   "source": [
    "logreg.params"
   ]
  },
  {
   "cell_type": "code",
   "execution_count": null,
   "metadata": {
    "id": "Ntn96SvZ8DXK"
   },
   "outputs": [],
   "source": [
    "# import various functions from sklearn\n",
    "from sklearn import metrics\n",
    "from sklearn.linear_model import LogisticRegression\n",
    "from sklearn.metrics import classification_report\n",
    "from sklearn.metrics import cohen_kappa_score\n",
    "from sklearn.metrics import confusion_matrix\n",
    "from sklearn.metrics import roc_curve\n",
    "from sklearn.metrics import accuracy_score"
   ]
  },
  {
   "cell_type": "code",
   "execution_count": null,
   "metadata": {
    "id": "rpsh3Wegypb9"
   },
   "outputs": [],
   "source": [
    "# consider a list of values for cut-off\n",
    "\n",
    "cutoff_per = pd.DataFrame(columns=['Probability Cutoff', 'AUC Score', 'Precision Score', 'Recall Score',\n",
    "                                       'Accuracy Score', 'Kappa Score', 'f1-score'])\n",
    "\n",
    "thresh_value = [0.1, 0.2, 0.3, 0.4, 0.5, 0.6, 0.7, 0.8, 0.9]\n",
    "\n",
    "\n",
    "for cutoff in thresh_value:\n",
    "\n",
    "\n",
    "  ypred_prob = logreg.predict(xtest_c)\n",
    "  ypred = [ 0 if x < cutoff else 1 for x in ypred_prob]\n",
    "\n",
    "  global cutoff_per\n",
    "\n",
    "    # append the results to the dataframe 'score_card'\n",
    "    # 'ignore_index = True' do not consider the index labels\n",
    "  cutoff_per = cutoff_per.append({'Probability Cutoff': cutoff,\n",
    "                                    'AUC Score' : metrics.roc_auc_score(ytest, ypred),\n",
    "                                    'Precision Score': metrics.precision_score(ytest, ypred),\n",
    "                                    'Recall Score': metrics.recall_score(ytest, ypred),\n",
    "                                    'Accuracy Score': metrics.accuracy_score(ytest, ypred),\n",
    "                                    'Kappa Score':metrics.cohen_kappa_score(ytest, ypred),\n",
    "                                    'f1-score': metrics.f1_score(ytest, ypred)},\n",
    "                                    ignore_index = True)\n",
    "\n",
    "\n",
    "\n",
    "\n"
   ]
  },
  {
   "cell_type": "code",
   "execution_count": null,
   "metadata": {
    "colab": {
     "base_uri": "https://localhost:8080/",
     "height": 331
    },
    "id": "yCL2BOCdypP5",
    "outputId": "ab622eaa-182a-4237-c9d2-81dbdfeddd85"
   },
   "outputs": [],
   "source": [
    "cutoff_per"
   ]
  },
  {
   "cell_type": "markdown",
   "metadata": {
    "id": "RdFqciT18i1W"
   },
   "source": [
    "1. Best results are obtained for cutoff value of 0.6\n",
    "2. We can start using cutoff =0.6 instead of cutoff = 0.5"
   ]
  },
  {
   "cell_type": "markdown",
   "metadata": {
    "id": "mmR_5hUucDA_"
   },
   "source": [
    "<a id=\"youden\"></a>\n",
    "### Youden's Index"
   ]
  },
  {
   "cell_type": "markdown",
   "metadata": {
    "id": "tDcxkh6kcLp4"
   },
   "source": [
    "Youden's Index is the classification cut-off probability for which the (Sensitivity + Specificity - 1) is maximized.<br>\n",
    "\n",
    "<p style='text-indent:12em'> <strong>Youden's Index = max(Sensitivity + Specificity - 1) = max(TPR + TNR - 1) = max(TPR - FPR) </strong> </p>\n",
    "\n",
    "i.e. select the cut-off probability for which the (TPR - FPR) is maximum."
   ]
  },
  {
   "cell_type": "code",
   "execution_count": null,
   "metadata": {
    "colab": {
     "base_uri": "https://localhost:8080/",
     "height": 206
    },
    "id": "F2tiEketypJo",
    "outputId": "3b94f36f-9bf1-4f3d-b32e-490453d17c8f"
   },
   "outputs": [],
   "source": [
    "youdens_table = pd.DataFrame({'TPR': tpr,\n",
    "                             'FPR': fpr,\n",
    "                             'Threshold': threshold})\n",
    "\n",
    "\n",
    "# calculate the difference between TPR and FPR for each threshold and store the values in a new column 'Difference'\n",
    "youdens_table['Difference'] = youdens_table.TPR - youdens_table.FPR\n",
    "\n",
    "\n",
    "youdens_table = youdens_table.sort_values('Difference', ascending = False).reset_index(drop = True)\n",
    "\n",
    "# print the first five observations\n",
    "youdens_table.head()"
   ]
  },
  {
   "cell_type": "code",
   "execution_count": null,
   "metadata": {
    "id": "2b7mE_2iypGU"
   },
   "outputs": [],
   "source": [
    "# convert probabilities to 0 and 1 using 'if_else'\n",
    "y_pred_youden = [ 0 if x < 0.62 else 1 for x in ypred_prob]"
   ]
  },
  {
   "cell_type": "code",
   "execution_count": null,
   "metadata": {
    "colab": {
     "base_uri": "https://localhost:8080/"
    },
    "id": "8PlFbARhcgsT",
    "outputId": "3cb7d075-53c4-4933-dbf8-0f4c4c098766"
   },
   "outputs": [],
   "source": [
    "acc_table = classification_report(ytest, y_pred_youden)\n",
    "\n",
    "# print the table\n",
    "print(acc_table)"
   ]
  },
  {
   "cell_type": "code",
   "execution_count": null,
   "metadata": {
    "colab": {
     "base_uri": "https://localhost:8080/",
     "height": 112
    },
    "id": "BTrD7SDH5a3m",
    "outputId": "c83c4e08-54f3-436a-d8d6-ff89c29d0025"
   },
   "outputs": [],
   "source": [
    "update_performance(name = 'LogisticReg-Youden', model = logreg,test=ytest,pred=y_pred_youden)\n",
    "\n",
    "# print the dataframe\n",
    "perf_score"
   ]
  },
  {
   "cell_type": "code",
   "execution_count": null,
   "metadata": {
    "id": "q_4MdfyY5asP"
   },
   "outputs": [],
   "source": []
  },
  {
   "cell_type": "code",
   "execution_count": null,
   "metadata": {
    "id": "bfkCk71dcf3v"
   },
   "outputs": [],
   "source": []
  },
  {
   "cell_type": "code",
   "execution_count": null,
   "metadata": {
    "id": "QoUgEtHFypCt"
   },
   "outputs": [],
   "source": []
  },
  {
   "cell_type": "markdown",
   "metadata": {
    "id": "J8cjzVeigxa3"
   },
   "source": [
    "**SKLEARN - LOGISTIC REGRESSION**"
   ]
  },
  {
   "cell_type": "markdown",
   "metadata": {
    "id": "lgBE7j2WhIzn"
   },
   "source": [
    "There are no parameters in logistic regression"
   ]
  },
  {
   "cell_type": "code",
   "execution_count": null,
   "metadata": {
    "id": "B00YEBIuiD7P"
   },
   "outputs": [],
   "source": [
    "import warnings\n",
    "warnings.filterwarnings('ignore')"
   ]
  },
  {
   "cell_type": "code",
   "execution_count": null,
   "metadata": {
    "id": "QvTgyup8g18m"
   },
   "outputs": [],
   "source": [
    "from sklearn.linear_model import LogisticRegression"
   ]
  },
  {
   "cell_type": "code",
   "execution_count": null,
   "metadata": {
    "id": "X0icTMdClfOu"
   },
   "outputs": [],
   "source": [
    "from sklearn.model_selection import train_test_split\n",
    "xtrain,xtest,ytrain,ytest = train_test_split(X,y,\n",
    "                                             test_size=0.20,\n",
    "                                             random_state=10)"
   ]
  },
  {
   "cell_type": "code",
   "execution_count": null,
   "metadata": {
    "colab": {
     "base_uri": "https://localhost:8080/"
    },
    "id": "oPZdNAibhMdn",
    "outputId": "055c5761-b3d0-4c2f-faef-f99a0c9ca252"
   },
   "outputs": [],
   "source": [
    "lr=LogisticRegression()\n",
    "lr.fit(xtrain,ytrain)\n",
    "\n",
    "ypred_lr_train = lr.predict(xtrain)\n",
    "ypred_lr= lr.predict(xtest)\n",
    "\n",
    "ypred_lr"
   ]
  },
  {
   "cell_type": "markdown",
   "metadata": {
    "id": "FOwVCVBdKoyX"
   },
   "source": [
    "**Training Performance**"
   ]
  },
  {
   "cell_type": "code",
   "execution_count": null,
   "metadata": {
    "colab": {
     "base_uri": "https://localhost:8080/"
    },
    "id": "u6xPashTKoWv",
    "outputId": "38286ffd-25d2-486f-a665-92053ceb78c6"
   },
   "outputs": [],
   "source": [
    "print(accuracy_score(ytrain,ypred_lr_train))\n",
    "print(confusion_matrix(ytrain,ypred_lr_train))\n",
    "print(classification_report(ytrain,ypred_lr_train))"
   ]
  },
  {
   "cell_type": "markdown",
   "metadata": {
    "id": "XLL2ifNaKlEA"
   },
   "source": [
    "**Testing Performance**"
   ]
  },
  {
   "cell_type": "code",
   "execution_count": null,
   "metadata": {
    "colab": {
     "base_uri": "https://localhost:8080/"
    },
    "id": "xuIXUBmZimMu",
    "outputId": "e753e631-a36c-49f0-aa83-f37e7547942c"
   },
   "outputs": [],
   "source": [
    "print(accuracy_score(ytest,ypred_lr))\n",
    "print(confusion_matrix(ytest,ypred_lr))\n",
    "print(classification_report(ytest,ypred_lr))"
   ]
  },
  {
   "cell_type": "code",
   "execution_count": null,
   "metadata": {
    "id": "YOzuTGUpLnZX"
   },
   "outputs": [],
   "source": []
  },
  {
   "cell_type": "markdown",
   "metadata": {
    "id": "Nf0Q3oIjLOsw"
   },
   "source": [
    "**1. There se**ems to be large difference between Train and Test Data"
   ]
  },
  {
   "cell_type": "markdown",
   "metadata": {
    "id": "svvdzLnqLiI6"
   },
   "source": [
    "### Summarize the logistic Regression"
   ]
  },
  {
   "cell_type": "code",
   "execution_count": null,
   "metadata": {
    "colab": {
     "base_uri": "https://localhost:8080/",
     "height": 143
    },
    "id": "yokbJdgz7OwE",
    "outputId": "2dc515b3-4c30-4f04-81a9-d209e6c5acf7"
   },
   "outputs": [],
   "source": [
    "update_performance(name = 'LogisticReg-skl', model = lr,test=ytest,pred=ypred_lr)\n",
    "\n",
    "# print the dataframe\n",
    "perf_score"
   ]
  },
  {
   "cell_type": "code",
   "execution_count": null,
   "metadata": {
    "id": "LZQV4OpsyS-E"
   },
   "outputs": [],
   "source": []
  },
  {
   "cell_type": "code",
   "execution_count": null,
   "metadata": {
    "id": "SnEyJ1ZILn_Y"
   },
   "outputs": [],
   "source": []
  },
  {
   "cell_type": "markdown",
   "metadata": {
    "id": "N3E9XX82em25"
   },
   "source": [
    "**Entropy**"
   ]
  },
  {
   "cell_type": "markdown",
   "metadata": {
    "id": "wdLWV0-KrOl5"
   },
   "source": [
    "# Decision Tree -Classification"
   ]
  },
  {
   "cell_type": "markdown",
   "metadata": {
    "id": "AiD8mcmyIwTL"
   },
   "source": [
    "Decision Tree is a non-parametric supervised learning method. It builds a model in the form of a tree structure. It breaks down a dataset into smaller and smaller subsets, which is called splitting. A decision node is a node on which a decision of split is to be made. A node that can not be split further is known as the terminal/leaf node. A leaf node represents the decision. A decision tree can work with both numerical and categorical variables.\n",
    "\n",
    "A decision tree for classification is built using criteria like the Gini index and entropy."
   ]
  },
  {
   "cell_type": "markdown",
   "metadata": {
    "id": "TgVhwQFYI2Kb"
   },
   "source": [
    "## Gini Index\n",
    "\n",
    "Gini index measures the probability of the sample being wrongly classified. The value of the Gini index varies between 0 and 1. We choose the variable with a low Gini index. The Gini index of the variable is calculated as:\n",
    "<p style='text-indent:28em'> <strong> $ Gini = 1 - \\sum_{i = 1}^{n}p_{i}^{2} $</strong> </p>\n",
    "\n",
    "Where,<br>\n",
    "$p_{i}$: Probability of occurrence of the class 'i'"
   ]
  },
  {
   "cell_type": "markdown",
   "metadata": {
    "id": "npFV9fH1I-ib"
   },
   "source": [
    "## Entropy\n",
    "\n",
    "Entropy is one of the criteria used to build the decision tree. It calculates the heterogeneity of the sample. The entropy is zero if the sample is completely homogeneous, and it is equal to 1 if the sample is equally divided. Entropy of the variable 'X' is calculated as:\n",
    "<p style='text-indent:28em'> <strong> $ E(X) =  -\\sum_{i = 1}^{c}p_{i}log_{2}p_{i} $</strong> </p>\n",
    "\n",
    "Where,<br>\n",
    "$p_{i}$: Probability of occurrence of the class 'i'\n",
    "\n",
    "And the conditional emtropy of the variable is given as:\n",
    "<p style='text-indent:28em'> <strong> $ E(T, X) = \\sum_{c \\epsilon X}P(c)E(c) $</strong> </p>\n",
    "\n",
    "Where,<br>\n",
    "$P(c)$: Probability of occurrence of the class 'c'<br>\n",
    "$E(c)$: Entropy of the class 'c'\n",
    "\n",
    "The information gain is the difference between the entropy of the target variable and the entropy of the target variable given an independent variable. We split the on the variable that corresponds to the highest information gain."
   ]
  },
  {
   "cell_type": "markdown",
   "metadata": {
    "id": "Hlo71a6aahEv"
   },
   "source": [
    "## Case Study 1 -Credit Card Purchased or Not Purchased"
   ]
  },
  {
   "cell_type": "code",
   "execution_count": null,
   "metadata": {
    "colab": {
     "base_uri": "https://localhost:8080/"
    },
    "id": "glm0eECkpUOG",
    "outputId": "e1e702b3-943e-4794-84e8-440de18a0162"
   },
   "outputs": [],
   "source": [
    "# E(class or feature)  = - sum(pc* ln(pc)\n",
    "\n",
    "# Entropy at the Target Level - CC Purchase\n",
    "ecc =-0.6*np.log2(0.6)-0.4 *np.log2(0.4)\n",
    "print(-0.6*np.log2(0.6)-0.4 *np.log2(0.4))\n"
   ]
  },
  {
   "cell_type": "code",
   "execution_count": null,
   "metadata": {
    "colab": {
     "base_uri": "https://localhost:8080/"
    },
    "id": "6Be-7O74ZhUP",
    "outputId": "54cb34b0-d33b-4ef6-aa20-5305972a1c76"
   },
   "outputs": [],
   "source": [
    "#\n",
    "em=(6/15)*(-5/6 * np.log2(5/6) - 1/6 *np.log2(1/6))    # E(CC Purchase|Male)\n",
    "ef=(9/15) * (-4/9*np.log2(4/9) - 5/9*np.log2(5/9) )     # E(cc purchase|Female)\n",
    "print(\"Entropy of CC Purchase given Gender=\",em +ef)\n",
    "print(\"Information Gain from Feature Gender=\", ecc-(em+ef))"
   ]
  },
  {
   "cell_type": "code",
   "execution_count": null,
   "metadata": {
    "colab": {
     "base_uri": "https://localhost:8080/"
    },
    "id": "qfrYgZRUZhOh",
    "outputId": "d1ef71cb-a91a-4f61-9c4e-1dc5981d3ca9"
   },
   "outputs": [],
   "source": [
    "emrm= (5/6) * ((-5/5) * np.log2(5/5))    # E(CC Purchase|Male)\n",
    "enmrm=(1/6) * ((- 1/1) * np.log2(1/1))     # E(cc purchase|Female)\n",
    "\n",
    "emrf= (4/9) * ((-4/4) * np.log2(4/4) )    # E(CC Purchase|Male)\n",
    "enmrf=(5/9) * ((- 5/5) * np.log2(5/5))     # E(cc purchase|Female)\n",
    "print(\"Entropy of CC Purchase given Marital=\",emrm +enmrm+emrf+enmrf)\n",
    "print(\"Information Gain from Feature Gender=\", (em+ef)-(emrm +enmrm+emrf+enmrf))"
   ]
  },
  {
   "cell_type": "markdown",
   "metadata": {
    "id": "OHwv2wBlaNjB"
   },
   "source": [
    "## Case Study 2 -Loan Approved or Rejected"
   ]
  },
  {
   "cell_type": "markdown",
   "metadata": {
    "id": "Q_O90eWybTh4"
   },
   "source": [
    "**Find the entropy of Target column**"
   ]
  },
  {
   "cell_type": "code",
   "execution_count": null,
   "metadata": {
    "colab": {
     "base_uri": "https://localhost:8080/"
    },
    "id": "7H_L7ylQa1cb",
    "outputId": "cc41cc51-b89d-41a7-f3d6-19b64b1ce5bb"
   },
   "outputs": [],
   "source": [
    "ent_loan = -(10/15 * np.log2(10/15) + 5/15 * np.log2(5/15))\n",
    "print(ent_loan)"
   ]
  },
  {
   "cell_type": "markdown",
   "metadata": {
    "id": "l5YlgGJYgi8H"
   },
   "source": [
    "**Find the entropy of Loan given Employed**"
   ]
  },
  {
   "cell_type": "code",
   "execution_count": null,
   "metadata": {
    "colab": {
     "base_uri": "https://localhost:8080/"
    },
    "id": "tUUBit62a1Ca",
    "outputId": "c12e3143-9266-406c-acfc-635f53794af7"
   },
   "outputs": [],
   "source": [
    "# entropy of loan given employed = yes\n",
    "ent_loan_emp_yes = -(10/15)*((6/10*np.log2(6/10)) + (4/10*np.log2(4/10)))\n",
    "\n",
    "# entropy of loan given employed =no\n",
    "ent_loan_emp_no = -(5/15) * ((4/5 * np.log2(4/5))+ (1/5 * np.log2(1/5)) )\n",
    "\n",
    "ent_loan_emp = ent_loan_emp_yes +ent_loan_emp_no\n",
    "IG_emp = ent_loan  - ent_loan_emp\n",
    "\n",
    "print(\"Entropy at Employed Level =\", ent_loan_emp)\n",
    "print(\"Information gain from Employed=\", IG_emp)"
   ]
  },
  {
   "cell_type": "markdown",
   "metadata": {
    "id": "QUweTGcdjbT-"
   },
   "source": [
    "**Find the entropy of Loan given Credit Score**"
   ]
  },
  {
   "cell_type": "code",
   "execution_count": null,
   "metadata": {
    "colab": {
     "base_uri": "https://localhost:8080/"
    },
    "id": "EQdCaFtia0-v",
    "outputId": "133a69d6-686d-40d1-f214-c845db5417fb"
   },
   "outputs": [],
   "source": [
    "#  Information gain calculation with second feature Credit_score\n",
    "# entropy of loan given the credit score is high\n",
    "# entropy of loan given the credit score is low\n",
    "\n",
    "# in the 7 approved where the credit score is high all of them are approved and none rejected. This becomes a pure node.\n",
    "ent_loan_CS_high = -(7/15)  * (7/7) * np.log2(7/7)\n",
    "ent_loan_CS_low = -(8/15) * ((3/8 * np.log2(3/8))+(5/8 * np.log2(5/8)))\n",
    "\n",
    "ent_loan_CS = ent_loan_CS_high + ent_loan_CS_low\n",
    "IG_CS = ent_loan  - ent_loan_CS\n",
    "\n",
    "print(\"Entropy from Credit Score=\", ent_loan_CS)\n",
    "print(\"Information gain from Credit Score=\", IG_CS)"
   ]
  },
  {
   "cell_type": "markdown",
   "metadata": {
    "id": "8-H6YD8mkql2"
   },
   "source": [
    "**Find the entropy of Loan given Income**"
   ]
  },
  {
   "cell_type": "code",
   "execution_count": null,
   "metadata": {
    "colab": {
     "base_uri": "https://localhost:8080/"
    },
    "id": "1lG2g4Hga04_",
    "outputId": "c2bb0679-cfb4-458d-b9e2-fc20e90fb5ec"
   },
   "outputs": [],
   "source": [
    "#  Information gain calculation with third  feature Income\n",
    "\n",
    "# entropy of loan given income is high\n",
    "# entropy of loan given income is low\n",
    "\n",
    "ent_loan_Inc_high = -(4/15) * (4/4*np.log2(4/4))\n",
    "ent_loan_Inc_low = -(11/15) * ((6/11 * np.log2(6/11))+( 5/11 * np.log2(5/11)) )\n",
    "\n",
    "ent_loan_Inc = ent_loan_Inc_high + ent_loan_Inc_low\n",
    "IG_Inc = ent_loan  - ent_loan_Inc\n",
    "\n",
    "print(\"Entropy from Income=\", ent_loan_Inc)\n",
    "print(\"Information gain from Income=\", IG_Inc)"
   ]
  },
  {
   "cell_type": "markdown",
   "metadata": {
    "id": "jWRpNwJ5lhjO"
   },
   "source": [
    "**Find the entropy of Loan given Dependents**"
   ]
  },
  {
   "cell_type": "code",
   "execution_count": null,
   "metadata": {
    "colab": {
     "base_uri": "https://localhost:8080/"
    },
    "id": "NlUJnJkUa0zP",
    "outputId": "d6feb21a-64bb-44b7-f1f3-7023d2d6140e"
   },
   "outputs": [],
   "source": [
    "#  Information gain calculation with forth   feature Depdendent\n",
    "\n",
    "# entropy of loan given dependent is yes\n",
    "# entropy of loan given dependent is no\n",
    "\n",
    "ent_loan_Dep_yes = -(7/15)*((2/7*np.log2(2/7)) + (5/7*np.log2(5/7)))\n",
    "ent_loan_Dep_no = -(8/15) * (8/8 * np.log2(8/8))\n",
    "\n",
    "ent_loan_Dep = ent_loan_Dep_yes +ent_loan_Dep_no\n",
    "IG_Dep = ent_loan  - ent_loan_Dep\n",
    "\n",
    "print(\"Entropy from Dependents=\", ent_loan_Dep)\n",
    "print(\"Information gain from Dependent=\", IG_Dep)"
   ]
  },
  {
   "cell_type": "markdown",
   "metadata": {
    "id": "6NtYdrBX0G3e"
   },
   "source": [
    "## Construction of Decision tree Level 2\n",
    "* The rows where Dependent = No becomes a leaf node\n",
    "* Filter nodes where Dependent = Yes"
   ]
  },
  {
   "cell_type": "markdown",
   "metadata": {
    "id": "ReIf8BDb0SPk"
   },
   "source": [
    "**Entropy at Loan Level**"
   ]
  },
  {
   "cell_type": "code",
   "execution_count": null,
   "metadata": {
    "colab": {
     "base_uri": "https://localhost:8080/"
    },
    "id": "U9kgbDkZ0JrB",
    "outputId": "529dd7cc-ec5e-4b5a-f53c-3dcfa92505f2"
   },
   "outputs": [],
   "source": [
    "# entropy of the target column\n",
    "# Entropy of Loan in the above subset where depedent=Yes\n",
    "\n",
    "# entropy at the second level\n",
    "# first we calculate entropy at the loan level\n",
    "ent2_loan = -2/7*np.log2(2/7) - (5/7)*np.log2(5/7)\n",
    "print(\"Entropy -Target =\", ent2_loan)\n"
   ]
  },
  {
   "cell_type": "markdown",
   "metadata": {
    "id": "9BDc6N3k1YzK"
   },
   "source": [
    "**Entropy of Loan given Employed**"
   ]
  },
  {
   "cell_type": "code",
   "execution_count": null,
   "metadata": {
    "colab": {
     "base_uri": "https://localhost:8080/"
    },
    "id": "lqpWdyrM0Jl7",
    "outputId": "b7d5dbb2-b5a6-416e-c33b-04a914164173"
   },
   "outputs": [],
   "source": [
    "#Information Gain calculation at level 2\n",
    "# can be done directly by looking at above table\n",
    "# Entropy of target Loan and E(loan/employed)\n",
    "\n",
    "ent2_Emp_yes = -(6/7) * (4/6*np.log2(4/6) + (2/6) * np.log2(2/6))\n",
    "ent2_Emp_no = -(1/7) * 1 *np.log2(1)\n",
    "ent2_Emp =  ent2_Emp_yes + ent2_Emp_no    # E(loan|employed)\n",
    "\n",
    "ig_Emp2 = ent2_loan - ent2_Emp\n",
    "\n",
    "print(\"Entropy for Employed = \", ent2_Emp)\n",
    "print(\"Information gain for Employed = \", ig_Emp2)"
   ]
  },
  {
   "cell_type": "markdown",
   "metadata": {
    "id": "ZCiO8OSp3lFs"
   },
   "source": [
    "**Entropy of Loan given Credit Score**"
   ]
  },
  {
   "cell_type": "code",
   "execution_count": null,
   "metadata": {
    "colab": {
     "base_uri": "https://localhost:8080/"
    },
    "id": "EcLZKe5b0JhE",
    "outputId": "574ab40a-81a8-47b1-eabf-f1ee5e46c151"
   },
   "outputs": [],
   "source": [
    "#Information Gain calculation at level 2\n",
    "# Entropy of  E(loan/Credit_score)\n",
    "\n",
    "#ent_CS = ent_CS_low + ent_CS_high\n",
    "ent2_CS = (5/7) * ((5/5) *np.log2(5/5) + 0)   +  (2/7) *(2/2*np.log2(2/2) + 0)\n",
    "\n",
    "ig_CS2 = ent2_loan - ent2_CS\n",
    "\n",
    "print(\"Entropy for Credit_Score = \", ent2_CS)\n",
    "print(\"Information gain for Cedit_Score = \", ig_CS2)\n",
    "\n"
   ]
  },
  {
   "cell_type": "markdown",
   "metadata": {
    "id": "XzbP52I836KL"
   },
   "source": [
    "**Entropy for Loan given Income**"
   ]
  },
  {
   "cell_type": "code",
   "execution_count": null,
   "metadata": {
    "colab": {
     "base_uri": "https://localhost:8080/"
    },
    "id": "-P-tzb_r0JZx",
    "outputId": "2a8fafce-46ca-4d6a-ffd5-0da814377252"
   },
   "outputs": [],
   "source": [
    "# Entropy of  E(loan/Income)\n",
    "\n",
    "ent2_Inc_low = - (6/7) * (1/6*np.log2(1/6) + (5/6) * np.log2(5/6))\n",
    "ent2_Inc_high = -(1/7) * 1 *np.log2(1)\n",
    "ent2_Inc =  ent2_Inc_low + ent2_Inc_high\n",
    "\n",
    "ig_Inc2 = ent2_loan - ent2_Inc\n",
    "\n",
    "print(\"Entropy for Income = \", ent2_Inc)\n",
    "print(\"Information gain for Income = \", ig_Inc2)"
   ]
  },
  {
   "cell_type": "code",
   "execution_count": null,
   "metadata": {
    "id": "nSpxR2Z10JVm"
   },
   "outputs": [],
   "source": []
  },
  {
   "cell_type": "code",
   "execution_count": null,
   "metadata": {
    "id": "-w8T5zQ40JRd"
   },
   "outputs": [],
   "source": []
  },
  {
   "cell_type": "code",
   "execution_count": null,
   "metadata": {
    "id": "oA3PuvOC0JOE"
   },
   "outputs": [],
   "source": []
  },
  {
   "cell_type": "code",
   "execution_count": null,
   "metadata": {
    "id": "Htt2lqrr0JJ6"
   },
   "outputs": [],
   "source": []
  },
  {
   "cell_type": "code",
   "execution_count": null,
   "metadata": {
    "id": "A6MnLI1h0JFz"
   },
   "outputs": [],
   "source": []
  },
  {
   "cell_type": "code",
   "execution_count": null,
   "metadata": {
    "id": "CCsusmka0I_t"
   },
   "outputs": [],
   "source": []
  },
  {
   "cell_type": "code",
   "execution_count": null,
   "metadata": {
    "id": "byRUPR2Ka0ua"
   },
   "outputs": [],
   "source": []
  },
  {
   "cell_type": "code",
   "execution_count": null,
   "metadata": {
    "id": "AN7G0aAuZgR1"
   },
   "outputs": [],
   "source": []
  },
  {
   "cell_type": "code",
   "execution_count": null,
   "metadata": {
    "id": "HgMJVuK2rWDL"
   },
   "outputs": [],
   "source": [
    "from sklearn.tree import DecisionTreeClassifier"
   ]
  },
  {
   "cell_type": "code",
   "execution_count": null,
   "metadata": {
    "colab": {
     "base_uri": "https://localhost:8080/"
    },
    "id": "1nUE2hDFJiWd",
    "outputId": "dce3007c-734a-43b4-b077-c20b22f05e9b"
   },
   "outputs": [],
   "source": [
    "dt = DecisionTreeClassifier(random_state=10)\n",
    "\n",
    "dt.fit(xtrain,ytrain)\n",
    "\n",
    "ypred_dt_train = dt.predict(xtrain)\n",
    "\n",
    "\n",
    "print(accuracy_score(ytrain,ypred_dt_train))\n",
    "print(confusion_matrix(ytrain,ypred_dt_train))\n",
    "print(classification_report(ytrain,ypred_dt_train))"
   ]
  },
  {
   "cell_type": "code",
   "execution_count": null,
   "metadata": {
    "colab": {
     "base_uri": "https://localhost:8080/"
    },
    "id": "lNqqipAjrlP5",
    "outputId": "f391bb82-2b61-4a1c-fc31-074300725d34"
   },
   "outputs": [],
   "source": [
    "dt = DecisionTreeClassifier(random_state=10)\n",
    "\n",
    "dt.fit(xtrain,ytrain)\n",
    "\n",
    "ypred_dt = dt.predict(xtest)\n",
    "\n",
    "\n",
    "print(accuracy_score(ytest,ypred_dt))\n",
    "print(confusion_matrix(ytest,ypred_dt))\n",
    "print(classification_report(ytest,ypred_dt))\n"
   ]
  },
  {
   "cell_type": "markdown",
   "metadata": {
    "id": "t9bVyeBhK0d8"
   },
   "source": [
    "## Over-fitting in Decision Tree\n",
    "\n",
    "1. The decision tree is said to be over-fitted if it tries to perfectly fit all the observations in the training data. We can calculate the difference between the train and test accuracy to identify if there is over-fitting.\n",
    "2. Overfitting occurs as the decision tree tries to get the purest form irrespective of the depth of the decision tree.  The tree becomes very big and lands up to be complex algo with several nodes.\n",
    "3. Overfitting means tree is fitting well on training data and performs poorly on test data."
   ]
  },
  {
   "cell_type": "markdown",
   "metadata": {
    "id": "03VteTSgR0mZ"
   },
   "source": [
    "**Summarize the Decision Tree with Default Criterion as Gini**"
   ]
  },
  {
   "cell_type": "code",
   "execution_count": null,
   "metadata": {
    "colab": {
     "base_uri": "https://localhost:8080/",
     "height": 175
    },
    "id": "HWsAb4yG_t5v",
    "outputId": "d224f470-2992-4104-af2e-6cc86a5fe9b8"
   },
   "outputs": [],
   "source": [
    "update_performance(name = 'Decision Tree-Gini', model = dt,test=ytest,pred=ypred_dt)\n",
    "\n",
    "# print the dataframe\n",
    "perf_score"
   ]
  },
  {
   "cell_type": "code",
   "execution_count": null,
   "metadata": {
    "id": "mcs1IgbGR7l3"
   },
   "outputs": [],
   "source": []
  },
  {
   "cell_type": "markdown",
   "metadata": {
    "id": "ybPQpjT_Tu_d"
   },
   "source": [
    "**Lets visualize the Tree which is build by the Model**"
   ]
  },
  {
   "cell_type": "code",
   "execution_count": null,
   "metadata": {
    "id": "jOnn3wEFtQko"
   },
   "outputs": [],
   "source": [
    "from sklearn import tree\n"
   ]
  },
  {
   "cell_type": "code",
   "execution_count": null,
   "metadata": {
    "id": "bIbfEqL7uM75"
   },
   "outputs": [],
   "source": [
    "dt_file=open('dt.dot','w')\n",
    "dot_data=tree.export_graphviz(dt,out_file=dt_file)\n",
    "dt_file.close()\n"
   ]
  },
  {
   "cell_type": "markdown",
   "metadata": {
    "id": "br0PPwG-U9Jj"
   },
   "source": [
    "**To visualize open Webgraphviz.com**"
   ]
  },
  {
   "cell_type": "code",
   "execution_count": null,
   "metadata": {
    "colab": {
     "base_uri": "https://localhost:8080/",
     "height": 1000
    },
    "id": "i_5BwZaCYCJD",
    "outputId": "a429e71a-c693-419a-a480-9c6cc7065e11"
   },
   "outputs": [],
   "source": [
    "from sklearn import tree\n",
    "\n",
    "fig = plt.figure(figsize=(45,50))\n",
    "_ = tree.plot_tree(dt,\n",
    "                   feature_names=xtrain.columns,\n",
    "                   class_names=[\"0\",\"1\"],\n",
    "                   filled=True) # it gives all the nodes in the color. If this is false then all of them will be in white"
   ]
  },
  {
   "cell_type": "markdown",
   "metadata": {
    "id": "eoBwgOXsY73j"
   },
   "source": [
    "1. There are 2 colours. Orange and Blue.\n",
    "2. Leaf are dark in colour. Dark Orange and Dark Blue. These are the ones which are completely pure.\n",
    "3. Where ever, you see the white, it means that they are equal classes. Gini is 0.5."
   ]
  },
  {
   "cell_type": "markdown",
   "metadata": {
    "id": "2yUTXdh3Zv2j"
   },
   "source": [
    "**Lets build Tree with criteria =Entropy**"
   ]
  },
  {
   "cell_type": "code",
   "execution_count": null,
   "metadata": {
    "colab": {
     "base_uri": "https://localhost:8080/"
    },
    "id": "1lkR7kB9Z16r",
    "outputId": "2f2a3d84-c4d1-4e48-e98a-fa3f3964e297"
   },
   "outputs": [],
   "source": [
    "dt_e = DecisionTreeClassifier(criterion='entropy',random_state=10)\n",
    "\n",
    "dt_e.fit(xtrain,ytrain)\n",
    "\n",
    "ypred_dt_e = dt_e.predict(xtest)\n",
    "\n",
    "\n",
    "print(accuracy_score(ytest,ypred_dt_e))\n",
    "print(confusion_matrix(ytest,ypred_dt_e))\n",
    "print(classification_report(ytest,ypred_dt_e))"
   ]
  },
  {
   "cell_type": "markdown",
   "metadata": {
    "id": "5zNdaYBlUENn"
   },
   "source": [
    "**Summarize the Decision Tree using Criterion as Entropy**"
   ]
  },
  {
   "cell_type": "code",
   "execution_count": null,
   "metadata": {
    "colab": {
     "base_uri": "https://localhost:8080/",
     "height": 206
    },
    "id": "tGT4DuAcB1wU",
    "outputId": "87debd53-c1f1-4d4e-b0da-139fa20dbecb"
   },
   "outputs": [],
   "source": [
    "update_performance(name = 'Decision Tree-Entropy', model = dt_e,test=ytest,pred=ypred_dt_e)\n",
    "\n",
    "# print the dataframe\n",
    "perf_score"
   ]
  },
  {
   "cell_type": "code",
   "execution_count": null,
   "metadata": {
    "id": "orgGWGP_B1ks"
   },
   "outputs": [],
   "source": []
  },
  {
   "cell_type": "markdown",
   "metadata": {
    "id": "YjMAJx2XU-Yy"
   },
   "source": [
    "**Lets Visualize the Tree formation using Entropy as the Criterion**"
   ]
  },
  {
   "cell_type": "code",
   "execution_count": null,
   "metadata": {
    "id": "HjeerhaDUCuK"
   },
   "outputs": [],
   "source": []
  },
  {
   "cell_type": "code",
   "execution_count": null,
   "metadata": {
    "colab": {
     "base_uri": "https://localhost:8080/",
     "height": 1000
    },
    "id": "3N3i3bQVaY3L",
    "outputId": "13edf231-9353-459a-8223-46ece0a632c5"
   },
   "outputs": [],
   "source": [
    "fig = plt.figure(figsize=(45,50))\n",
    "_ = tree.plot_tree(dt_e,\n",
    "                   feature_names=xtrain.columns,\n",
    "                   class_names=[\"0\",\"1\"],\n",
    "                   filled=True) # it gives all the nodes in the color. If this is false then all of them will be in white"
   ]
  },
  {
   "cell_type": "markdown",
   "metadata": {
    "id": "0vlwYjyjavwC"
   },
   "source": [
    "1. Tree will not be the same. But there will be some similarity.\n",
    "2. This tree will also grow till it finds pure nodes."
   ]
  },
  {
   "cell_type": "markdown",
   "metadata": {
    "id": "VtgohHXNbQxC"
   },
   "source": [
    "**Lets Introduce some Hyper Parameters to tune the decision tree**"
   ]
  },
  {
   "cell_type": "markdown",
   "metadata": {
    "id": "Cq_JDNdWbnLC"
   },
   "source": [
    "1. Max_Depth =None by default. Which means allow the tree to grow as much as possible."
   ]
  },
  {
   "cell_type": "code",
   "execution_count": null,
   "metadata": {
    "colab": {
     "base_uri": "https://localhost:8080/"
    },
    "id": "XD1IatAKbgl8",
    "outputId": "333c38e9-7e5e-40c1-8487-af0d67887419"
   },
   "outputs": [],
   "source": [
    "dt_e3 = DecisionTreeClassifier(criterion='entropy',max_depth = 3,random_state=10)\n",
    "\n",
    "dt_e3.fit(xtrain,ytrain)\n",
    "\n",
    "ypred_dt_e3 = dt_e3.predict(xtest)\n",
    "\n",
    "print(accuracy_score(ytest,ypred_dt_e3))\n",
    "print(confusion_matrix(ytest,ypred_dt_e3))\n",
    "print(classification_report(ytest,ypred_dt_e3))"
   ]
  },
  {
   "cell_type": "markdown",
   "metadata": {
    "id": "Q-vCL23cb2rC"
   },
   "source": [
    "**Generate a e3 Tree**"
   ]
  },
  {
   "cell_type": "code",
   "execution_count": null,
   "metadata": {
    "colab": {
     "base_uri": "https://localhost:8080/",
     "height": 1000
    },
    "id": "2P8CcN0mb6-K",
    "outputId": "e8feca82-1caf-4b42-8d94-3a18585e0601"
   },
   "outputs": [],
   "source": [
    "fig = plt.figure(figsize=(45,50))\n",
    "_ = tree.plot_tree(dt_e3,\n",
    "                   feature_names=xtrain.columns,\n",
    "                   class_names=[\"0\",\"1\"],\n",
    "                   filled=True) # it gives all the nodes in the color. If this is false then all of them will be in white"
   ]
  },
  {
   "cell_type": "markdown",
   "metadata": {
    "id": "U4i-H8uPclPU"
   },
   "source": [
    "1. Now the Tree will go till the depth of 3.\n",
    "2. We build 3 Trees - Decision tree with Gini, DT with entropy (dt_e) and DT with entropy and Max_depth = 5."
   ]
  },
  {
   "cell_type": "markdown",
   "metadata": {
    "id": "SXIw3uSSe8Ny"
   },
   "source": [
    "Lets now understand the importance of features. Are all the features important."
   ]
  },
  {
   "cell_type": "code",
   "execution_count": null,
   "metadata": {
    "colab": {
     "base_uri": "https://localhost:8080/"
    },
    "id": "t4JmM8cGfFCE",
    "outputId": "23af701b-f574-4ada-e292-408acd3dee31"
   },
   "outputs": [],
   "source": [
    "dt.feature_importances_"
   ]
  },
  {
   "cell_type": "markdown",
   "metadata": {
    "id": "aub7dwVvfPZy"
   },
   "source": [
    "1. The third feature is 0 which means it is not important.\n",
    "2. Sixth feature is high value which means it is  very important."
   ]
  },
  {
   "cell_type": "code",
   "execution_count": null,
   "metadata": {
    "colab": {
     "base_uri": "https://localhost:8080/"
    },
    "id": "NWwHKhxxfqEK",
    "outputId": "69187abe-0f83-4541-f708-b73480f7b97b"
   },
   "outputs": [],
   "source": [
    "xtrain.columns"
   ]
  },
  {
   "cell_type": "code",
   "execution_count": null,
   "metadata": {
    "id": "2WOWGc9EftCa"
   },
   "outputs": [],
   "source": [
    "feature_imp = pd.DataFrame()\n",
    "feature_imp['Feature']=xtrain.columns\n",
    "feature_imp['Importance']=dt.feature_importances_"
   ]
  },
  {
   "cell_type": "code",
   "execution_count": null,
   "metadata": {
    "colab": {
     "base_uri": "https://localhost:8080/",
     "height": 269
    },
    "id": "GHhopAiigNEr",
    "outputId": "7528c321-9fd7-4ce8-ea06-1ef4d78b6e47"
   },
   "outputs": [],
   "source": [
    "feature_imp"
   ]
  },
  {
   "cell_type": "code",
   "execution_count": null,
   "metadata": {
    "colab": {
     "base_uri": "https://localhost:8080/",
     "height": 589
    },
    "id": "sp2L8vSjgfGy",
    "outputId": "c1a37e84-b174-48f6-89d5-57aae318426b"
   },
   "outputs": [],
   "source": [
    "feature_imp = feature_imp.sort_values('Importance',ascending=False)\n",
    "sns.barplot(x='Importance', y='Feature', data=feature_imp)\n",
    "plt.show()"
   ]
  },
  {
   "cell_type": "markdown",
   "metadata": {
    "id": "BFLqzoG4knjy"
   },
   "source": [
    "Feature CGPA is very important compared to other feature."
   ]
  },
  {
   "cell_type": "markdown",
   "metadata": {
    "id": "1bCBbQg6qdL5"
   },
   "source": [
    "**To Find Overfit and Underfitting conditions**"
   ]
  },
  {
   "cell_type": "code",
   "execution_count": null,
   "metadata": {
    "colab": {
     "base_uri": "https://localhost:8080/"
    },
    "id": "GbpedY-ZqkeR",
    "outputId": "64b94211-1b5d-4aa3-b3f0-25f00f68dca4"
   },
   "outputs": [],
   "source": [
    "print('Train Accuracy',dt.score(xtrain,ytrain))\n",
    "print('Test Accuracy',dt.score(xtest,ytest))"
   ]
  },
  {
   "cell_type": "markdown",
   "metadata": {
    "id": "502uIhjVq5iK"
   },
   "source": [
    "1. This is overfitting model as the training accuracy is  1.0\n",
    "2. dt_score is the same as that for accuracy.\n",
    "3. Here we had seen model with criterion as Gini"
   ]
  },
  {
   "cell_type": "code",
   "execution_count": null,
   "metadata": {
    "colab": {
     "base_uri": "https://localhost:8080/"
    },
    "id": "qD1thf4MrdRb",
    "outputId": "6962dfd5-6123-4392-ea4c-38fd79930907"
   },
   "outputs": [],
   "source": [
    "print('Train Accuracy',dt_e.score(xtrain,ytrain))\n",
    "print('Test Accuracy',dt_e.score(xtest,ytest))"
   ]
  },
  {
   "cell_type": "markdown",
   "metadata": {
    "id": "smPynP-PrkHb"
   },
   "source": [
    "1. This is overfitting model as the training accuracy is  1.0\n",
    "2. dt_score is the same as that for accuracy.\n",
    "3. Here we had seen model with criterion as Entropy"
   ]
  },
  {
   "cell_type": "markdown",
   "metadata": {
    "id": "lJdy4QtEru2L"
   },
   "source": [
    "1. The model is better than full model.\n",
    "2. The model is not overfitting because there is very less variance between the train and test.\n",
    "3. Cutting down the brances is bringing down the overfitting conditions\n",
    "4. Cutting the down the tree technique is called as Pruning. Thus by using just one parameter, we overcame the problem of overfitting.\n",
    "5. This model has entropy and one hyperparameter."
   ]
  },
  {
   "cell_type": "markdown",
   "metadata": {
    "id": "4_eu1ewgxrRA"
   },
   "source": [
    "## Over-fitting in Decision Tree\n",
    "\n",
    "1. The decision tree is said to be over-fitted if it tries to perfectly fit all the observations in the training data. We can calculate the difference between the train and test accuracy to identify if there is over-fitting.\n",
    "2. Overfitting occurs as the decision tree tries to get the purest form irrespective of the depth of the decision tree.  The tree becomes very big and lands up to be complex algo with several nodes.\n",
    "3. Overfitting means tree is fitting well on training data and performs poorly on test data."
   ]
  },
  {
   "cell_type": "markdown",
   "metadata": {
    "id": "C4zY9LaRxaoI"
   },
   "source": [
    "**Use of GridSearchCV to find which depth is good one**"
   ]
  },
  {
   "cell_type": "code",
   "execution_count": null,
   "metadata": {
    "id": "ibCg-CzkzETh"
   },
   "outputs": [],
   "source": [
    "from sklearn.model_selection import GridSearchCV"
   ]
  },
  {
   "cell_type": "code",
   "execution_count": null,
   "metadata": {
    "id": "uV9iadJWxhCA"
   },
   "outputs": [],
   "source": [
    "tuned_paramaters = [{'criterion': ['entropy','gini'],\n",
    "                     'max_depth': [2,3,5,6,7,8,9,10],\n",
    "}]"
   ]
  },
  {
   "cell_type": "code",
   "execution_count": null,
   "metadata": {
    "id": "cXXT5m7lyGWl"
   },
   "outputs": [],
   "source": [
    "dt = DecisionTreeClassifier(random_state = 10)\n",
    "\n",
    "tree_grid = GridSearchCV(estimator = dt, # The estimator can be is logistic, Linear reg, decision tree\n",
    "                         param_grid = tuned_paramaters,\n",
    "                         cv = 5)"
   ]
  },
  {
   "cell_type": "code",
   "execution_count": null,
   "metadata": {
    "colab": {
     "base_uri": "https://localhost:8080/"
    },
    "id": "irR8B6RbzKG4",
    "outputId": "edf671fb-0332-44bd-8d09-b55a51a4535f"
   },
   "outputs": [],
   "source": [
    "tree_grid_model = tree_grid.fit(xtrain, ytrain)\n",
    "print('Best parameters for decision tree classifier: ', tree_grid_model.best_params_, '\\n')"
   ]
  },
  {
   "cell_type": "code",
   "execution_count": null,
   "metadata": {
    "colab": {
     "base_uri": "https://localhost:8080/"
    },
    "id": "tkwgbSYcyhIp",
    "outputId": "3ee7ecce-f77d-4ef7-877e-45b43befd3f9"
   },
   "outputs": [],
   "source": [
    "ypred_dt_tp = tree_grid_model.predict(xtest)\n",
    "\n",
    "print(accuracy_score(ytest,ypred_dt_tp))\n",
    "print(confusion_matrix(ytest,ypred_dt_tp))\n",
    "print(classification_report(ytest,ypred_dt_tp))"
   ]
  },
  {
   "cell_type": "code",
   "execution_count": null,
   "metadata": {
    "colab": {
     "base_uri": "https://localhost:8080/"
    },
    "id": "5O48kkix0bbp",
    "outputId": "f669d83d-47c3-4dec-8c23-a5fdb9ea938d"
   },
   "outputs": [],
   "source": [
    "print('Train Accuracy',tree_grid_model.score(xtrain,ytrain))\n",
    "print('Test Accuracy',tree_grid_model.score(xtest,ytest))"
   ]
  },
  {
   "cell_type": "markdown",
   "metadata": {
    "id": "EtJronAm0u-p"
   },
   "source": [
    "**Lets Look at Other Hyparameters**"
   ]
  },
  {
   "cell_type": "code",
   "execution_count": null,
   "metadata": {
    "id": "92YPLZ_QC7ov"
   },
   "outputs": [],
   "source": [
    "tuned_paramaters = [{'criterion': ['entropy','gini'],\n",
    "                     'max_depth': [5,10],  # 5,6,7,\n",
    "                     'max_features': [\"sqrt\", \"log2\"], # it can be either square root of the feature or log of number of features\n",
    "                     'min_samples_split': [2,5,8], # 1-3% of the total records\n",
    "                     'min_samples_leaf': [1,5,9], # 1-3% of the min_sample_split\n",
    "                     'max_leaf_nodes': [5,8]}]"
   ]
  },
  {
   "cell_type": "code",
   "execution_count": null,
   "metadata": {
    "id": "T_zDFu9-DFDX"
   },
   "outputs": [],
   "source": [
    "dt = DecisionTreeClassifier(random_state = 10)\n",
    "\n",
    "tree_grid = GridSearchCV(estimator = dt, # The estimator can be is logistic, Linear reg, decision tree\n",
    "                         param_grid = tuned_paramaters,\n",
    "                         cv = 5)"
   ]
  },
  {
   "cell_type": "code",
   "execution_count": null,
   "metadata": {
    "colab": {
     "base_uri": "https://localhost:8080/"
    },
    "id": "ISMbuerLDIZA",
    "outputId": "13573824-1362-4a08-d628-17709a9f7726"
   },
   "outputs": [],
   "source": [
    "tree_grid_model = tree_grid.fit(xtrain, ytrain)\n",
    "print('Best parameters for decision tree classifier: ', tree_grid_model.best_params_, '\\n')"
   ]
  },
  {
   "cell_type": "code",
   "execution_count": null,
   "metadata": {
    "id": "1NiMMlk0eFq2"
   },
   "outputs": [],
   "source": [
    "dt_grid_model = DecisionTreeClassifier(criterion = 'gini',\n",
    "                                  max_depth = 5,\n",
    "                                  max_features = 'sqrt',\n",
    "                                  max_leaf_nodes = 5,\n",
    "                                  min_samples_leaf = 9,\n",
    "                                  min_samples_split = 2,\n",
    "                                  random_state = 10)"
   ]
  },
  {
   "cell_type": "code",
   "execution_count": null,
   "metadata": {
    "id": "aky2wKA1eFPO"
   },
   "outputs": [],
   "source": [
    "dt_grid_model= dt_grid_model.fit(xtrain,ytrain)"
   ]
  },
  {
   "cell_type": "code",
   "execution_count": null,
   "metadata": {
    "colab": {
     "base_uri": "https://localhost:8080/"
    },
    "id": "d-zbmlCsDLIP",
    "outputId": "d4b54c1d-3cfa-4862-fcec-0a10d8536254"
   },
   "outputs": [],
   "source": [
    "ypred_dt_tp = dt_grid_model.predict(xtest)\n",
    "\n",
    "print(accuracy_score(ytest,ypred_dt_tp))\n",
    "print(confusion_matrix(ytest,ypred_dt_tp))\n",
    "print(classification_report(ytest,ypred_dt_tp))"
   ]
  },
  {
   "cell_type": "code",
   "execution_count": null,
   "metadata": {
    "colab": {
     "base_uri": "https://localhost:8080/"
    },
    "id": "egl7V47XDNxH",
    "outputId": "cd18cc8a-cd8a-4b41-e8a5-14957d6cae28"
   },
   "outputs": [],
   "source": [
    "print('Train Accuracy',tree_grid_model.score(xtrain,ytrain))\n",
    "print('Test Accuracy',tree_grid_model.score(xtest,ytest))"
   ]
  },
  {
   "cell_type": "markdown",
   "metadata": {
    "id": "eJ5gRHA4Dat4"
   },
   "source": [
    "1.The model performance is 83%.\n"
   ]
  },
  {
   "cell_type": "code",
   "execution_count": null,
   "metadata": {
    "id": "SaJoVoCBFCXJ"
   },
   "outputs": [],
   "source": [
    "ypred_dt_dp_train = tree_grid_model.predict(xtrain)"
   ]
  },
  {
   "cell_type": "code",
   "execution_count": null,
   "metadata": {
    "colab": {
     "base_uri": "https://localhost:8080/"
    },
    "id": "8JdHTEAHFv-n",
    "outputId": "a628b03a-6846-41b8-f872-8d91ca591718"
   },
   "outputs": [],
   "source": [
    "print(classification_report(ytrain,ypred_dt_dp_train))"
   ]
  },
  {
   "cell_type": "code",
   "execution_count": null,
   "metadata": {
    "colab": {
     "base_uri": "https://localhost:8080/"
    },
    "id": "fMj6gtLYD8w3",
    "outputId": "bc3eeafa-292e-40c7-e65b-f3e9e1227186"
   },
   "outputs": [],
   "source": [
    "# evaluate using confusion matrix.\n",
    "\n",
    "print(confusion_matrix(ytest,ypred_dt_tp))"
   ]
  },
  {
   "cell_type": "code",
   "execution_count": null,
   "metadata": {
    "colab": {
     "base_uri": "https://localhost:8080/"
    },
    "id": "MGTMR_KbEgL3",
    "outputId": "98ff3601-61b7-4a93-a2c0-83d40e59459b"
   },
   "outputs": [],
   "source": [
    "print(classification_report(ytest,ypred_dt_tp))"
   ]
  },
  {
   "cell_type": "code",
   "execution_count": null,
   "metadata": {
    "colab": {
     "base_uri": "https://localhost:8080/"
    },
    "id": "6pXcpoo9EPhH",
    "outputId": "9b46967c-ff39-4cfb-f4e4-282ae4ec2a76"
   },
   "outputs": [],
   "source": [
    "print(classification_report(ytest,ypred_dt_tp))"
   ]
  },
  {
   "cell_type": "markdown",
   "metadata": {
    "id": "Dc_KNsNZPRTA"
   },
   "source": [
    "### Lets Summarize the Findings"
   ]
  },
  {
   "cell_type": "code",
   "execution_count": null,
   "metadata": {
    "colab": {
     "base_uri": "https://localhost:8080/",
     "height": 237
    },
    "id": "eKeDJ2leC-Z5",
    "outputId": "058593d5-9c6a-4f8d-e350-a85a0f87edad"
   },
   "outputs": [],
   "source": [
    "update_performance(name = 'Decision Tree-Tuned', model = dt_grid_model,test=ytest,pred=ypred_dt_tp)\n",
    "\n",
    "# print the dataframe\n",
    "perf_score"
   ]
  },
  {
   "cell_type": "markdown",
   "metadata": {
    "id": "LCaY40srXhm_"
   },
   "source": [
    "**Summary**\n",
    "\n",
    "1. Decision Tree works better than Logistic Regression for the dataset given.\n",
    "2. Decision Tree performance was enhanced further by fine tuning parameters."
   ]
  },
  {
   "cell_type": "code",
   "execution_count": null,
   "metadata": {
    "id": "rM0_kHNQdufZ"
   },
   "outputs": [],
   "source": []
  },
  {
   "cell_type": "code",
   "execution_count": null,
   "metadata": {
    "id": "xqa7WE3TZaz5"
   },
   "outputs": [],
   "source": []
  },
  {
   "cell_type": "markdown",
   "metadata": {
    "id": "h0NvrQASkAv5"
   },
   "source": [
    "## KNN"
   ]
  },
  {
   "cell_type": "code",
   "execution_count": null,
   "metadata": {
    "colab": {
     "base_uri": "https://localhost:8080/",
     "height": 74
    },
    "id": "9OG9Ez5snHIX",
    "outputId": "5e7d7488-3e71-4920-babc-5311192b1a70"
   },
   "outputs": [],
   "source": [
    "from sklearn.neighbors import KNeighborsClassifier\n",
    "\n",
    "knn=KNeighborsClassifier()\n",
    "knn.fit(xtrain,ytrain)"
   ]
  },
  {
   "cell_type": "markdown",
   "metadata": {
    "id": "35e51Flzp3ev"
   },
   "source": [
    "**Training Performance**"
   ]
  },
  {
   "cell_type": "code",
   "execution_count": null,
   "metadata": {
    "colab": {
     "base_uri": "https://localhost:8080/"
    },
    "id": "4FxP6QgynJfP",
    "outputId": "bdee5ecb-ff59-431f-916a-1dfc3febdd2e"
   },
   "outputs": [],
   "source": [
    "#Training Data\n",
    "\n",
    "ypred_knn_trn = knn.predict(xtrain)\n",
    "\n",
    "print(accuracy_score(ytrain,ypred_knn_trn))\n",
    "print(confusion_matrix(ytrain,ypred_knn_trn))\n",
    "print(classification_report(ytrain,ypred_knn_trn))"
   ]
  },
  {
   "cell_type": "markdown",
   "metadata": {
    "id": "l0xYORRHDQ9S"
   },
   "source": [
    "1. Memorization happens on the training test\n",
    "2. All the calculations happens when we give .predict(}"
   ]
  },
  {
   "cell_type": "markdown",
   "metadata": {
    "id": "91pvaE8Jp7kQ"
   },
   "source": [
    "**Testing Performance**"
   ]
  },
  {
   "cell_type": "code",
   "execution_count": null,
   "metadata": {
    "colab": {
     "base_uri": "https://localhost:8080/"
    },
    "id": "hUxBazb_kEX_",
    "outputId": "1f0ef2eb-bc43-4488-ffaf-20ed45abef60"
   },
   "outputs": [],
   "source": [
    "#Testing Data\n",
    "\n",
    "ypred_knn = knn.predict(xtest)\n",
    "\n",
    "print(accuracy_score(ytest,ypred_knn))\n",
    "print(confusion_matrix(ytest,ypred_knn))\n",
    "print(classification_report(ytest,ypred_knn))\n"
   ]
  },
  {
   "cell_type": "markdown",
   "metadata": {
    "id": "txhmd2XAqL_o"
   },
   "source": [
    "**Lets Summarize the results**"
   ]
  },
  {
   "cell_type": "code",
   "execution_count": null,
   "metadata": {
    "colab": {
     "base_uri": "https://localhost:8080/",
     "height": 269
    },
    "id": "bZXpmoGCDty9",
    "outputId": "c1b97c13-0c69-4439-e7f2-72a976d73549"
   },
   "outputs": [],
   "source": [
    "update_performance(name = 'KNearestNeighbour', model = knn,test=ytest,pred=ypred_knn)\n",
    "\n",
    "# print the dataframe\n",
    "perf_score"
   ]
  },
  {
   "cell_type": "code",
   "execution_count": null,
   "metadata": {
    "id": "Doc_dKzQqFaw"
   },
   "outputs": [],
   "source": []
  },
  {
   "cell_type": "markdown",
   "metadata": {
    "id": "tFN2EDUMno9l"
   },
   "source": [
    "**Cross Val Score**"
   ]
  },
  {
   "cell_type": "markdown",
   "metadata": {
    "id": "JREsfWPSnu35"
   },
   "source": [
    "by default the split is 5. We can use cv=3."
   ]
  },
  {
   "cell_type": "code",
   "execution_count": null,
   "metadata": {
    "colab": {
     "base_uri": "https://localhost:8080/"
    },
    "id": "1lUd-EsQmqki",
    "outputId": "7229057e-5b08-4e9e-a2d1-2ea1ec140558"
   },
   "outputs": [],
   "source": [
    "from sklearn.model_selection import cross_val_score\n",
    "score = cross_val_score(knn,xtrain,ytrain,scoring=\"accuracy\")\n",
    "score\n"
   ]
  },
  {
   "cell_type": "code",
   "execution_count": null,
   "metadata": {
    "colab": {
     "base_uri": "https://localhost:8080/"
    },
    "id": "HxP1IEHOnjeS",
    "outputId": "df19cd79-29c3-46cd-cffb-bd973f89f23e"
   },
   "outputs": [],
   "source": [
    "np.mean(score)"
   ]
  },
  {
   "cell_type": "code",
   "execution_count": null,
   "metadata": {
    "colab": {
     "base_uri": "https://localhost:8080/"
    },
    "id": "TpJtqGxtoCJB",
    "outputId": "5989b5fd-2a4e-4e20-e68e-b9b42a954bbf"
   },
   "outputs": [],
   "source": [
    "ypred_knn"
   ]
  },
  {
   "cell_type": "markdown",
   "metadata": {
    "id": "-wP0mDVOplnR"
   },
   "source": [
    "1. [0.8, 0.2],The model says there is 80% probability that Data point 1 belongs to class 0 and 20% probability that it belongs to class 1.\n",
    "2. [0.2, 0.8] The model says that there is 20% probability that the Data Point 2 belongs to class 0 and 80% probability that data point 2 belongs to class 1.\n",
    "3. Whichever, Data point has higher probability, it belongs to that class.\n",
    "4. For ROC, we need probability. Hence, we are using, predict.proba"
   ]
  },
  {
   "cell_type": "code",
   "execution_count": null,
   "metadata": {
    "colab": {
     "base_uri": "https://localhost:8080/"
    },
    "id": "evRGj02woRZh",
    "outputId": "7bff123d-8ec2-4016-ad11-2708387c20cc"
   },
   "outputs": [],
   "source": [
    "ypred_prob_knn= knn.predict_proba(xtest)\n",
    "ypred_prob_knn"
   ]
  },
  {
   "cell_type": "markdown",
   "metadata": {
    "id": "joD2s8HLvFrA"
   },
   "source": [
    "1. ROC curve is based on TPR and FPR\n",
    "2. Focus is on class 1. Disease , default, diabetic.\n",
    "3. Our focus is only on column 1 and not the 0 class."
   ]
  },
  {
   "cell_type": "markdown",
   "metadata": {
    "id": "ACa-Dkoev_4A"
   },
   "source": [
    "Take all the rows and first column."
   ]
  },
  {
   "cell_type": "code",
   "execution_count": null,
   "metadata": {
    "colab": {
     "base_uri": "https://localhost:8080/"
    },
    "id": "glzmFb55vzRR",
    "outputId": "0c01a90e-73dc-4e7f-df32-254b03144f52"
   },
   "outputs": [],
   "source": [
    "ypred_prob_knn[:,1]"
   ]
  },
  {
   "cell_type": "code",
   "execution_count": null,
   "metadata": {
    "colab": {
     "base_uri": "https://localhost:8080/",
     "height": 643
    },
    "id": "xtfmXUAswMZp",
    "outputId": "8955285e-73d4-4d30-a369-7a21d81d43df"
   },
   "outputs": [],
   "source": [
    "ypred_prob_knn_1 = ypred_prob_knn[:,1] # collects all the probabilities belonging to class to 1.\n",
    "\n",
    "fpr, tpr, threshold = roc_curve(ytest,ypred_prob_knn_1) # it gives 3 outputs - tpr, fpr and threshold.\n",
    "\n",
    "plt.plot(fpr,tpr)\n",
    "plt.show()\n",
    "\n",
    "print(roc_auc_score(ytest,ypred_prob_knn_1))"
   ]
  },
  {
   "cell_type": "code",
   "execution_count": null,
   "metadata": {
    "id": "DXpIkAmjJCYO"
   },
   "outputs": [],
   "source": []
  },
  {
   "cell_type": "code",
   "execution_count": null,
   "metadata": {
    "id": "NTri-OAdJC8d"
   },
   "outputs": [],
   "source": []
  },
  {
   "cell_type": "markdown",
   "metadata": {
    "id": "cxffthv-JF-r"
   },
   "source": [
    "**Run the KNN with no of neighbours to be 1,3,5..19 and *Find the optimal number of neighbours from K=1,3,5,7....19 using the Mis classification error**\n",
    "\n",
    "Hint: Misclassification error **(MCE) = 1 - Test accuracy score.** Calculated MCE for each model with neighbours = 1,3,5...19 and find the model with lowest MCE"
   ]
  },
  {
   "cell_type": "code",
   "execution_count": null,
   "metadata": {
    "colab": {
     "base_uri": "https://localhost:8080/"
    },
    "id": "634QoJJhJDA-",
    "outputId": "f8e0e21c-5708-4ce3-b5f7-b24363f8271e"
   },
   "outputs": [],
   "source": [
    "# empty list that will hold accuracy scores\n",
    "ac_scores = []\n",
    "\n",
    "# perform accuracy metrics for values from 1,3,5....19\n",
    "for k in range(1,20,2):\n",
    "    knn = KNeighborsClassifier(n_neighbors=k)\n",
    "    knn.fit(xtrain,ytrain)\n",
    "    # evaluate test accuracy\n",
    "    scores = knn.score(xtest, ytest)\n",
    "    ac_scores.append(scores)\n",
    "\n",
    "# changing to misclassification error\n",
    "MCE = [1 - x for x in ac_scores]\n",
    "MCE"
   ]
  },
  {
   "cell_type": "markdown",
   "metadata": {
    "id": "8umtv3-oLdW9"
   },
   "source": [
    "**Plot misclassification error vs k (with k value on X-axis) using matplotli**"
   ]
  },
  {
   "cell_type": "code",
   "execution_count": null,
   "metadata": {
    "colab": {
     "base_uri": "https://localhost:8080/",
     "height": 630
    },
    "id": "HB4lixWsJDH1",
    "outputId": "5aad01a1-c18e-4571-d9b8-46739e8320e9"
   },
   "outputs": [],
   "source": [
    "import matplotlib.pyplot as plt\n",
    "# plot misclassification error vs k\n",
    "plt.plot(range(1,20,2), MCE)\n",
    "plt.xlabel('Number of Neighbors K')\n",
    "plt.ylabel('Misclassification Error')\n",
    "plt.show()"
   ]
  },
  {
   "cell_type": "code",
   "execution_count": null,
   "metadata": {
    "colab": {
     "base_uri": "https://localhost:8080/",
     "height": 74
    },
    "id": "1NhrjxawMG1b",
    "outputId": "69cfac60-1a1b-4aea-9fcf-208ed22b4df2"
   },
   "outputs": [],
   "source": [
    "knn=KNeighborsClassifier(n_neighbors=9)\n",
    "knn.fit(xtrain,ytrain)"
   ]
  },
  {
   "cell_type": "code",
   "execution_count": null,
   "metadata": {
    "colab": {
     "base_uri": "https://localhost:8080/"
    },
    "id": "dNjHI4LdJDPH",
    "outputId": "48e0d308-b866-4e13-8fe8-4ec5d1755806"
   },
   "outputs": [],
   "source": [
    "#Training Data\n",
    "\n",
    "ypred_knn_trn = knn.predict(xtrain)\n",
    "\n",
    "print(accuracy_score(ytrain,ypred_knn_trn))\n",
    "print(confusion_matrix(ytrain,ypred_knn_trn))\n",
    "print(classification_report(ytrain,ypred_knn_trn))"
   ]
  },
  {
   "cell_type": "code",
   "execution_count": null,
   "metadata": {
    "colab": {
     "base_uri": "https://localhost:8080/"
    },
    "id": "2zxPNPveMD_N",
    "outputId": "c4c2a48c-fb91-4f73-e128-1f858e9c09a6"
   },
   "outputs": [],
   "source": [
    "#Testing Data\n",
    "\n",
    "ypred_knn = knn.predict(xtest)\n",
    "\n",
    "print(accuracy_score(ytest,ypred_knn))\n",
    "print(confusion_matrix(ytest,ypred_knn))\n",
    "print(classification_report(ytest,ypred_knn))"
   ]
  },
  {
   "cell_type": "code",
   "execution_count": null,
   "metadata": {
    "id": "Mjl-A15tMEJA"
   },
   "outputs": [],
   "source": []
  },
  {
   "cell_type": "code",
   "execution_count": null,
   "metadata": {
    "id": "vZoatX_RMEXC"
   },
   "outputs": [],
   "source": [
    "pars = {'n_neighbors':[6,8,10,12,14,16,18],\n",
    "       'algorithm':['auto','ball_tree','kd_tree','brute'],\n",
    "       'p':[1,2],\n",
    "       'metric':['minkowski','euclidean','manhattan','chebyshev','mahalanobis']}"
   ]
  },
  {
   "cell_type": "code",
   "execution_count": null,
   "metadata": {
    "colab": {
     "base_uri": "https://localhost:8080/",
     "height": 135
    },
    "id": "GB-YsJ3LMEfC",
    "outputId": "63f50100-2b40-46ad-8572-1871e11d578a"
   },
   "outputs": [],
   "source": [
    "from sklearn.model_selection import GridSearchCV\n",
    "grid_knn =GridSearchCV(KNeighborsClassifier(),param_grid=pars, refit=True, verbose =1)\n",
    "grid_knn.fit(xtrain,ytrain)"
   ]
  },
  {
   "cell_type": "code",
   "execution_count": null,
   "metadata": {
    "colab": {
     "base_uri": "https://localhost:8080/"
    },
    "id": "yInwuQXCMEqd",
    "outputId": "66cf0427-0fec-412c-ebf3-804612f2b9d6"
   },
   "outputs": [],
   "source": [
    "grid_knn.best_params_"
   ]
  },
  {
   "cell_type": "code",
   "execution_count": null,
   "metadata": {
    "id": "tGc6yB1kObVg"
   },
   "outputs": [],
   "source": []
  },
  {
   "cell_type": "code",
   "execution_count": null,
   "metadata": {
    "colab": {
     "base_uri": "https://localhost:8080/",
     "height": 74
    },
    "id": "INOsUs4LObcd",
    "outputId": "21a599aa-b43e-4d1e-df5e-b0f79d3e84f8"
   },
   "outputs": [],
   "source": [
    "knn_grid=KNeighborsClassifier(n_neighbors=6,\n",
    "                         algorithm='auto',\n",
    "                         metric = 'minkowski',\n",
    "                         p=1\n",
    "\n",
    "                         )\n",
    "knn_grid.fit(xtrain,ytrain)"
   ]
  },
  {
   "cell_type": "code",
   "execution_count": null,
   "metadata": {
    "colab": {
     "base_uri": "https://localhost:8080/"
    },
    "id": "sT8GhP_CObhg",
    "outputId": "55a6130e-36bd-45fb-b8db-b00625072298"
   },
   "outputs": [],
   "source": [
    "print('Classification report Train set :')\n",
    "print(classification_report(ytrain,knn_grid.predict(xtrain)))"
   ]
  },
  {
   "cell_type": "code",
   "execution_count": null,
   "metadata": {
    "colab": {
     "base_uri": "https://localhost:8080/"
    },
    "id": "awr9P5g_Ob13",
    "outputId": "a43b9282-6848-4453-ae49-6d88780fab98"
   },
   "outputs": [],
   "source": [
    "print('Classification report Test set :')\n",
    "print(classification_report(ytest,knn_grid.predict(xtest)))"
   ]
  },
  {
   "cell_type": "code",
   "execution_count": null,
   "metadata": {
    "colab": {
     "base_uri": "https://localhost:8080/"
    },
    "id": "_OsjPzWBNf0G",
    "outputId": "d7b269c4-6543-4e2d-85cd-fdd7c59b829b"
   },
   "outputs": [],
   "source": [
    "print('Classification report Train set :')\n",
    "print(classification_report(ytrain,grid_knn.predict(xtrain)))"
   ]
  },
  {
   "cell_type": "code",
   "execution_count": null,
   "metadata": {
    "colab": {
     "base_uri": "https://localhost:8080/"
    },
    "id": "QG-D3IsKNf4E",
    "outputId": "958c8ba8-d849-4ad8-892b-af0b0d9711a2"
   },
   "outputs": [],
   "source": [
    "print('Classification report Test set :')\n",
    "print(classification_report(ytest,grid_knn.predict(xtest)))"
   ]
  },
  {
   "cell_type": "code",
   "execution_count": null,
   "metadata": {
    "id": "R4vZ8K8SQMa5"
   },
   "outputs": [],
   "source": [
    "ypred_knn = knn_grid.predict(xtest)"
   ]
  },
  {
   "cell_type": "code",
   "execution_count": null,
   "metadata": {
    "colab": {
     "base_uri": "https://localhost:8080/",
     "height": 300
    },
    "id": "p8Th2KpWNgGQ",
    "outputId": "d05503c4-b8f8-4581-a2c7-8c165ea993fb"
   },
   "outputs": [],
   "source": [
    "update_performance(name = 'KNearestNeighbour-grid', model = knn_grid,test=ytest,pred=ypred_knn)\n",
    "\n",
    "# print the dataframe\n",
    "perf_score"
   ]
  },
  {
   "cell_type": "code",
   "execution_count": null,
   "metadata": {
    "id": "yLePewGCNgLq"
   },
   "outputs": [],
   "source": []
  },
  {
   "cell_type": "code",
   "execution_count": null,
   "metadata": {
    "id": "zCAUfX8HJDk2"
   },
   "outputs": [],
   "source": []
  },
  {
   "cell_type": "markdown",
   "metadata": {
    "id": "rrwwXkCvmeDk"
   },
   "source": [
    "**Gaussian Naive Bayes**"
   ]
  },
  {
   "cell_type": "code",
   "execution_count": null,
   "metadata": {
    "id": "qj7T-5fytJd4"
   },
   "outputs": [],
   "source": [
    "from sklearn.naive_bayes import GaussianNB, BernoulliNB, MultinomialNB"
   ]
  },
  {
   "cell_type": "code",
   "execution_count": null,
   "metadata": {
    "id": "Clkc8nmltofu"
   },
   "outputs": [],
   "source": [
    "gnb = GaussianNB()"
   ]
  },
  {
   "cell_type": "markdown",
   "metadata": {
    "id": "NliBYxD4wfoW"
   },
   "source": [
    "**Training Performance**"
   ]
  },
  {
   "cell_type": "code",
   "execution_count": null,
   "metadata": {
    "colab": {
     "base_uri": "https://localhost:8080/"
    },
    "id": "XROaSFX2mjMY",
    "outputId": "a4e9f7b7-b88f-4ab7-e7d3-8ca401687ede"
   },
   "outputs": [],
   "source": [
    "gnb.fit(xtrain,ytrain)\n",
    "\n",
    "\n",
    "ypred_gnb_train = gnb.predict(xtrain)\n",
    "\n",
    "print(accuracy_score(ytrain,ypred_gnb_train))\n",
    "print(confusion_matrix(ytrain,ypred_gnb_train))\n",
    "print(classification_report(ytrain,ypred_gnb_train))\n",
    "\n"
   ]
  },
  {
   "cell_type": "markdown",
   "metadata": {
    "id": "BxyCal7Iurtw"
   },
   "source": [
    "**Testing Performance**"
   ]
  },
  {
   "cell_type": "code",
   "execution_count": null,
   "metadata": {
    "colab": {
     "base_uri": "https://localhost:8080/"
    },
    "id": "WbHhH7zouxrx",
    "outputId": "48513fc3-690f-456b-c403-0dc19504b4ea"
   },
   "outputs": [],
   "source": [
    "gnb.fit(xtrain,ytrain)\n",
    "\n",
    "ypred_gnb = gnb.predict(xtest)\n",
    "\n",
    "print(accuracy_score(ytest,ypred_gnb))\n",
    "print(confusion_matrix(ytest,ypred_gnb))\n",
    "print(classification_report(ytest,ypred_gnb))"
   ]
  },
  {
   "cell_type": "markdown",
   "metadata": {
    "id": "sEMzPgeRKfA9"
   },
   "source": [
    "Summarizing the performance"
   ]
  },
  {
   "cell_type": "code",
   "execution_count": null,
   "metadata": {
    "colab": {
     "base_uri": "https://localhost:8080/",
     "height": 331
    },
    "id": "fncYHzLaKj0P",
    "outputId": "0db761bb-4ee5-42a5-de4f-1b30409477c4"
   },
   "outputs": [],
   "source": [
    "update_performance(name = 'Gaussian NB', model = gnb,test=ytest,pred=ypred_gnb)\n",
    "\n",
    "# print the dataframe\n",
    "perf_score"
   ]
  },
  {
   "cell_type": "markdown",
   "metadata": {
    "id": "Oktzyy8SwXzG"
   },
   "source": [
    "**Bernoulli NB**"
   ]
  },
  {
   "cell_type": "code",
   "execution_count": null,
   "metadata": {
    "id": "HURvSqhOurVh"
   },
   "outputs": [],
   "source": [
    "bnb = BernoulliNB()"
   ]
  },
  {
   "cell_type": "markdown",
   "metadata": {
    "id": "K27CPiXLwonQ"
   },
   "source": [
    "**Training Performance**"
   ]
  },
  {
   "cell_type": "code",
   "execution_count": null,
   "metadata": {
    "colab": {
     "base_uri": "https://localhost:8080/"
    },
    "id": "4hws_f1DwvBp",
    "outputId": "97c6c6b1-c001-4259-fd85-a2dcae78ff24"
   },
   "outputs": [],
   "source": [
    "bnb.fit(xtrain,ytrain)\n",
    "\n",
    "\n",
    "ypred_bnb_train = bnb.predict(xtrain)\n",
    "\n",
    "print(accuracy_score(ytrain,ypred_bnb_train))\n",
    "print(confusion_matrix(ytrain,ypred_bnb_train))\n",
    "print(classification_report(ytrain,ypred_bnb_train))"
   ]
  },
  {
   "cell_type": "markdown",
   "metadata": {
    "id": "oQlu8ZJLw_8Y"
   },
   "source": [
    "**Testing Performance**"
   ]
  },
  {
   "cell_type": "code",
   "execution_count": null,
   "metadata": {
    "colab": {
     "base_uri": "https://localhost:8080/"
    },
    "id": "8eKSmeUOqxVL",
    "outputId": "b65e5631-22f2-435c-cbb1-3ea7da2301a5"
   },
   "outputs": [],
   "source": [
    "\n",
    "bnb.fit(xtrain,ytrain)\n",
    "\n",
    "\n",
    "ypred_bnb = bnb.predict(xtest)\n",
    "\n",
    "print(accuracy_score(ytest,ypred_bnb))\n",
    "print(confusion_matrix(ytest,ypred_bnb))\n",
    "print(classification_report(ytest,ypred_bnb))"
   ]
  },
  {
   "cell_type": "markdown",
   "metadata": {
    "id": "u8wWbP3qxG1g"
   },
   "source": [
    "**Lets Summarize the outcomes**"
   ]
  },
  {
   "cell_type": "code",
   "execution_count": null,
   "metadata": {
    "colab": {
     "base_uri": "https://localhost:8080/",
     "height": 363
    },
    "id": "3THKrwV5LAVY",
    "outputId": "9f4c9dae-3bbf-4b42-d932-44c47cc0203d"
   },
   "outputs": [],
   "source": [
    "update_performance(name = 'Bernoulli NB', model = bnb,test=ytest,pred=ypred_bnb)\n",
    "\n",
    "# print the dataframe\n",
    "perf_score"
   ]
  },
  {
   "cell_type": "markdown",
   "metadata": {
    "id": "K_xEsPfbx4tP"
   },
   "source": [
    "**Multinomial Naive Bayes**"
   ]
  },
  {
   "cell_type": "code",
   "execution_count": null,
   "metadata": {
    "id": "b4F4lSm8xLMQ"
   },
   "outputs": [],
   "source": [
    "mnb = MultinomialNB()"
   ]
  },
  {
   "cell_type": "markdown",
   "metadata": {
    "id": "F5E1jJvYyAGK"
   },
   "source": [
    "**Training Performance**"
   ]
  },
  {
   "cell_type": "code",
   "execution_count": null,
   "metadata": {
    "colab": {
     "base_uri": "https://localhost:8080/"
    },
    "id": "6_u5N7ahx_rA",
    "outputId": "ea5c2ecd-9a40-4384-bb34-0ba46339fad5"
   },
   "outputs": [],
   "source": [
    "mnb.fit(xtrain,ytrain)\n",
    "\n",
    "\n",
    "ypred_mnb_train = mnb.predict(xtrain)\n",
    "\n",
    "print(accuracy_score(ytrain,ypred_mnb_train))\n",
    "print(confusion_matrix(ytrain,ypred_mnb_train))\n",
    "print(classification_report(ytrain,ypred_mnb_train))"
   ]
  },
  {
   "cell_type": "markdown",
   "metadata": {
    "id": "ZebAx-BNyEQX"
   },
   "source": [
    "**Testing Performance**"
   ]
  },
  {
   "cell_type": "code",
   "execution_count": null,
   "metadata": {
    "colab": {
     "base_uri": "https://localhost:8080/"
    },
    "id": "OQnnOfpGrYWo",
    "outputId": "110f92d4-57c8-4bc6-a8cc-7626ae7aaadf"
   },
   "outputs": [],
   "source": [
    "\n",
    "\n",
    "mnb.fit(xtrain,ytrain)\n",
    "\n",
    "\n",
    "ypred_mnb = mnb.predict(xtest)\n",
    "\n",
    "print(accuracy_score(ytest,ypred_mnb))\n",
    "print(confusion_matrix(ytest,ypred_mnb))\n",
    "print(classification_report(ytest,ypred_mnb))"
   ]
  },
  {
   "cell_type": "markdown",
   "metadata": {
    "id": "cfduOlXoyaXn"
   },
   "source": [
    "**Summarize the outcomes from the model**"
   ]
  },
  {
   "cell_type": "code",
   "execution_count": null,
   "metadata": {
    "colab": {
     "base_uri": "https://localhost:8080/",
     "height": 394
    },
    "id": "TXcYNiwiLduu",
    "outputId": "13d01364-75c9-492b-cea2-d38cb90bbbe6"
   },
   "outputs": [],
   "source": [
    "update_performance(name = 'Multinomial NB', model = mnb,test=ytest,pred=ypred_mnb)\n",
    "\n",
    "# print the dataframe\n",
    "perf_score"
   ]
  },
  {
   "cell_type": "markdown",
   "metadata": {
    "id": "Rj9x2agJzLgo"
   },
   "source": [
    "**What is OOB ? **"
   ]
  },
  {
   "cell_type": "code",
   "execution_count": null,
   "metadata": {
    "id": "KNL3Vy7iyg63"
   },
   "outputs": [],
   "source": []
  },
  {
   "cell_type": "markdown",
   "metadata": {
    "id": "3Ku5aN1zmGIQ"
   },
   "source": [
    "Probability of being selected is 1 /N\n",
    "\n",
    "Probability of not being selected is 1- 1/N\n",
    "\n",
    "For several N , the probability can be expressed as (1-1/N)^N\n",
    "\n",
    "SAY WE HAVE 50,000 rows not being selected"
   ]
  },
  {
   "cell_type": "code",
   "execution_count": null,
   "metadata": {
    "colab": {
     "base_uri": "https://localhost:8080/"
    },
    "id": "p9-cEzwYmJnz",
    "outputId": "eb877faf-0944-4215-feee-94b99bbe7312"
   },
   "outputs": [],
   "source": [
    "# (1-(1/50000)) RAISED to 50000\n",
    "pow(1-(1/50000), 50000)"
   ]
  },
  {
   "cell_type": "markdown",
   "metadata": {
    "id": "xT91df-8mvbv"
   },
   "source": [
    "## RANDOM FOREST"
   ]
  },
  {
   "cell_type": "code",
   "execution_count": null,
   "metadata": {
    "id": "FaM6n2J40dCe"
   },
   "outputs": [],
   "source": [
    "from sklearn.ensemble import RandomForestClassifier"
   ]
  },
  {
   "cell_type": "code",
   "execution_count": null,
   "metadata": {
    "colab": {
     "base_uri": "https://localhost:8080/",
     "height": 74
    },
    "id": "8WZ0c6PT0ygO",
    "outputId": "4236cf33-7e91-4af6-f668-97e2feb613a7"
   },
   "outputs": [],
   "source": [
    "rf = RandomForestClassifier(random_state=10)\n",
    "rf.fit(xtrain,ytrain)"
   ]
  },
  {
   "cell_type": "markdown",
   "metadata": {
    "id": "2umAejvg04h_"
   },
   "source": [
    "**Training Performance**"
   ]
  },
  {
   "cell_type": "code",
   "execution_count": null,
   "metadata": {
    "colab": {
     "base_uri": "https://localhost:8080/"
    },
    "id": "Q4Wsa3YPpC0K",
    "outputId": "0a80498b-2aea-4e2c-8504-6c56d5fb93ca"
   },
   "outputs": [],
   "source": [
    "ypred_rf_train = rf.predict(xtrain)\n",
    "\n",
    "print(accuracy_score(ytrain,ypred_rf_train))\n",
    "print(confusion_matrix(ytrain,ypred_rf_train))\n",
    "print(classification_report(ytrain,ypred_rf_train))"
   ]
  },
  {
   "cell_type": "markdown",
   "metadata": {
    "id": "mfuWOLJspRBx"
   },
   "source": [
    "**Testing Performance**"
   ]
  },
  {
   "cell_type": "code",
   "execution_count": null,
   "metadata": {
    "colab": {
     "base_uri": "https://localhost:8080/"
    },
    "id": "IHWBHyLPm0BY",
    "outputId": "206587d9-a943-42a6-9935-66f85e6a47d5"
   },
   "outputs": [],
   "source": [
    "rf.fit(xtrain,ytrain)\n",
    "ypred_rf = rf.predict(xtest)\n",
    "\n",
    "print(accuracy_score(ytest,ypred_rf))\n",
    "print(confusion_matrix(ytest,ypred_rf))\n",
    "print(classification_report(ytest,ypred_rf))\n"
   ]
  },
  {
   "cell_type": "markdown",
   "metadata": {
    "id": "hEiAzsEypdgA"
   },
   "source": [
    "1. There are 2 ways at looking whether the model is overfit or underfit models\n",
    "2. By using classification report or using score function"
   ]
  },
  {
   "cell_type": "code",
   "execution_count": null,
   "metadata": {
    "colab": {
     "base_uri": "https://localhost:8080/"
    },
    "id": "1isRyzf2pg-P",
    "outputId": "061e2f9d-e473-4b05-932e-08c4034045af"
   },
   "outputs": [],
   "source": [
    "print('Train Accuracy',rf.score(xtrain,ytrain))\n",
    "print('Test Accuracy',rf.score(xtest,ytest))"
   ]
  },
  {
   "cell_type": "markdown",
   "metadata": {
    "id": "lul5VM8wpjvK"
   },
   "source": [
    "1. The model is still overfitting even when we have 100 trees."
   ]
  },
  {
   "cell_type": "markdown",
   "metadata": {
    "id": "pO3KStLU1JLn"
   },
   "source": [
    "**Summarize the outcomes for Random Forest**"
   ]
  },
  {
   "cell_type": "code",
   "execution_count": null,
   "metadata": {
    "colab": {
     "base_uri": "https://localhost:8080/",
     "height": 425
    },
    "id": "W_HZ-d-VM5Dl",
    "outputId": "35297208-ccb0-4899-b906-3e71d400101a"
   },
   "outputs": [],
   "source": [
    "update_performance(name = 'Random Forest', model = rf,test=ytest,pred=ypred_rf)\n",
    "\n",
    "# print the dataframe\n",
    "perf_score"
   ]
  },
  {
   "cell_type": "code",
   "execution_count": null,
   "metadata": {
    "id": "ZNteHfI41Oa5"
   },
   "outputs": [],
   "source": []
  },
  {
   "cell_type": "markdown",
   "metadata": {
    "id": "JYLCB1qm6mqN"
   },
   "source": [
    "**OOB SAMPLE -PERFORMANCE**"
   ]
  },
  {
   "cell_type": "code",
   "execution_count": null,
   "metadata": {
    "colab": {
     "base_uri": "https://localhost:8080/"
    },
    "id": "lMYOmJbkqVSg",
    "outputId": "63dd279f-6faa-4a48-8078-05e1be2daba6"
   },
   "outputs": [],
   "source": [
    "rf = RandomForestClassifier(oob_score=True, random_state=10)\n",
    "\n",
    "rf.fit(xtrain,ytrain)\n",
    "\n",
    "ypred_rf = rf.predict(xtest)\n",
    "print(accuracy_score(ytest,ypred_rf))\n",
    "\n",
    "print(rf.oob_score_)\n"
   ]
  },
  {
   "cell_type": "markdown",
   "metadata": {
    "id": "DbfYTwwC6tG6"
   },
   "source": [
    "**Is there a scope for Improvement -Lets Fine Tune the performance of Random Forest**"
   ]
  },
  {
   "cell_type": "code",
   "execution_count": null,
   "metadata": {
    "id": "Iv-5bBIrpnNq"
   },
   "outputs": [],
   "source": [
    "params =             [{'criterion': ['entropy', 'gini'],\n",
    "                     'n_estimators': [100],\n",
    "                     'max_depth': [10, 15],\n",
    "                     'max_features': ['sqrt', 'log2'],\n",
    "                     'min_samples_split': [2, 8],\n",
    "                     'min_samples_leaf': [5, 9],\n",
    "                     'max_leaf_nodes': [8, 11]}]"
   ]
  },
  {
   "cell_type": "code",
   "execution_count": null,
   "metadata": {
    "colab": {
     "base_uri": "https://localhost:8080/"
    },
    "id": "wq_FDVRXpp33",
    "outputId": "38286034-f162-4d7a-e778-f532dbb205cc"
   },
   "outputs": [],
   "source": [
    "rf =RandomForestClassifier(random_state=10)\n",
    "\n",
    "rf_cv = GridSearchCV(rf,params,cv=5,scoring='accuracy')\n",
    "\n",
    "rf_cv.fit(xtrain,ytrain)\n",
    "\n",
    "rf_cv.best_params_"
   ]
  },
  {
   "cell_type": "code",
   "execution_count": null,
   "metadata": {
    "colab": {
     "base_uri": "https://localhost:8080/"
    },
    "id": "3XmETSigptCD",
    "outputId": "94450fd0-cce5-4d26-f6b3-a50c6c9971b6"
   },
   "outputs": [],
   "source": [
    "\n",
    "rf_model = RandomForestClassifier(criterion ='entropy' ,\n",
    "                                  n_estimators =100 ,\n",
    "                                  max_depth = 10 ,\n",
    "                                  max_features = 'sqrt',\n",
    "                                  max_leaf_nodes =8 ,\n",
    "                                  min_samples_leaf =5 ,\n",
    "                                  min_samples_split = 2,\n",
    "                                  random_state = 10)\n",
    "\n",
    "\n",
    "rf_model.fit(xtrain,ytrain)\n",
    "\n",
    "ypred_rf_tp = rf_model.predict(xtest)\n",
    "\n",
    "print(accuracy_score(ytest,ypred_rf_tp))\n",
    "print(confusion_matrix(ytest,ypred_rf_tp))\n",
    "print(classification_report(ytest,ypred_rf_tp))"
   ]
  },
  {
   "cell_type": "markdown",
   "metadata": {
    "id": "ohXM0C4NBgLa"
   },
   "source": [
    "Summarize the performance"
   ]
  },
  {
   "cell_type": "code",
   "execution_count": null,
   "metadata": {
    "colab": {
     "base_uri": "https://localhost:8080/",
     "height": 457
    },
    "id": "35x9Vl7_NpCl",
    "outputId": "8fb167dd-2cc0-4071-8f04-c906b80abad3"
   },
   "outputs": [],
   "source": [
    "update_performance(name = 'Random Forest-Tunned', model = rf_model,test=ytest,pred=ypred_rf_tp)\n",
    "\n",
    "# print the dataframe\n",
    "perf_score"
   ]
  },
  {
   "cell_type": "code",
   "execution_count": null,
   "metadata": {
    "id": "f2mvHyRGBh8S"
   },
   "outputs": [],
   "source": []
  },
  {
   "cell_type": "markdown",
   "metadata": {
    "id": "_xkbK6InucLI"
   },
   "source": [
    "## BAGGING CLASSIFIER"
   ]
  },
  {
   "cell_type": "code",
   "execution_count": null,
   "metadata": {
    "colab": {
     "base_uri": "https://localhost:8080/"
    },
    "id": "C_U9Z8usugGK",
    "outputId": "32362bff-a415-4785-91d0-b437561898d1"
   },
   "outputs": [],
   "source": [
    "from sklearn.ensemble import BaggingClassifier\n",
    "\n",
    "dt=DecisionTreeClassifier(random_state=10)\n",
    "\n",
    "bc=BaggingClassifier(dt) # by default the estimator is Decision Tree\n",
    "bc.fit(xtrain,ytrain)\n",
    "\n",
    "ypred_bc = bc.predict(xtest)\n",
    "\n",
    "print(accuracy_score(ytest,ypred_bc))"
   ]
  },
  {
   "cell_type": "markdown",
   "metadata": {
    "id": "58oGwSy7OBQ4"
   },
   "source": [
    "Summarizing the performance"
   ]
  },
  {
   "cell_type": "code",
   "execution_count": null,
   "metadata": {
    "colab": {
     "base_uri": "https://localhost:8080/",
     "height": 488
    },
    "id": "EzIMlmrSOFM1",
    "outputId": "d589be44-74cf-4447-fa94-ae5e5b5193fd"
   },
   "outputs": [],
   "source": [
    "update_performance(name = 'Bagging Classifier-dt', model = bc,test=ytest,pred=ypred_bc)\n",
    "\n",
    "# print the dataframe\n",
    "perf_score"
   ]
  },
  {
   "cell_type": "code",
   "execution_count": null,
   "metadata": {
    "id": "U3UXnhwkHRpA"
   },
   "outputs": [],
   "source": []
  },
  {
   "cell_type": "markdown",
   "metadata": {
    "id": "Xi6Q_Z8U17Lo"
   },
   "source": [
    "### KNN MODEL AS base model"
   ]
  },
  {
   "cell_type": "code",
   "execution_count": null,
   "metadata": {
    "colab": {
     "base_uri": "https://localhost:8080/"
    },
    "id": "qIu9wKzE160J",
    "outputId": "de243730-b98f-4eea-f959-d0322df06ca1"
   },
   "outputs": [],
   "source": [
    "from sklearn.ensemble import BaggingClassifier\n",
    "\n",
    "knn=KNeighborsClassifier()\n",
    "\n",
    "bag_knn=BaggingClassifier(knn,random_state=10) # by default the estimator is Decision Tree\n",
    "bag_knn.fit(xtrain,ytrain)\n",
    "\n",
    "ypred_bag_knn = bag_knn.predict(xtest)\n",
    "\n",
    "print(accuracy_score(ytest,ypred_bag_knn))"
   ]
  },
  {
   "cell_type": "markdown",
   "metadata": {
    "id": "O729Toa_2ruA"
   },
   "source": [
    "1. The model performance has improved compared to RF and Decision Tree\n",
    "2. We have to run several models and then check the performance"
   ]
  },
  {
   "cell_type": "markdown",
   "metadata": {
    "id": "mOcBJJ5FPgqP"
   },
   "source": [
    "Summarizing the performance"
   ]
  },
  {
   "cell_type": "code",
   "execution_count": null,
   "metadata": {
    "colab": {
     "base_uri": "https://localhost:8080/",
     "height": 519
    },
    "id": "Q67zaK5WPlFd",
    "outputId": "7b0257c6-e4fe-479d-8977-7a8b416ae683"
   },
   "outputs": [],
   "source": [
    "update_performance(name = 'Bagging Classifier-knn', model = bag_knn,test=ytest,pred=ypred_bag_knn)\n",
    "\n",
    "# print the dataframe\n",
    "perf_score"
   ]
  },
  {
   "cell_type": "code",
   "execution_count": null,
   "metadata": {
    "id": "EQwsNzRzICVG"
   },
   "outputs": [],
   "source": []
  },
  {
   "cell_type": "markdown",
   "metadata": {
    "id": "b0bqk0L_5QWt"
   },
   "source": [
    "### Bagging -LR Model. LR as base model"
   ]
  },
  {
   "cell_type": "code",
   "execution_count": null,
   "metadata": {
    "colab": {
     "base_uri": "https://localhost:8080/"
    },
    "id": "etL8U-TK5aX4",
    "outputId": "a3c823d8-7b77-4c00-c0fc-67ee6c864f04"
   },
   "outputs": [],
   "source": [
    "\n",
    "logr=LogisticRegression()\n",
    "\n",
    "bag_logr=BaggingClassifier(logr,random_state=10) # by default the estimator is Decision Tree\n",
    "bag_logr.fit(xtrain,ytrain)\n",
    "\n",
    "ypred_bag_logr = bag_logr.predict(xtest)\n",
    "\n",
    "print(accuracy_score(ytest,ypred_bag_logr))"
   ]
  },
  {
   "cell_type": "markdown",
   "metadata": {
    "id": "YaGj3jtuQQTe"
   },
   "source": [
    "Summarizing the performance"
   ]
  },
  {
   "cell_type": "code",
   "execution_count": null,
   "metadata": {
    "colab": {
     "base_uri": "https://localhost:8080/",
     "height": 551
    },
    "id": "CqUo8XGxQTl3",
    "outputId": "732bd70d-7b55-435e-a9a9-a4f162dc1f4c"
   },
   "outputs": [],
   "source": [
    "update_performance(name = 'Bagging Classifier-Log', model = bag_logr,test=ytest,pred=ypred_bag_logr)\n",
    "\n",
    "# print the dataframe\n",
    "perf_score"
   ]
  },
  {
   "cell_type": "code",
   "execution_count": null,
   "metadata": {
    "id": "qb3PzJ8YQTg_"
   },
   "outputs": [],
   "source": []
  },
  {
   "cell_type": "code",
   "execution_count": null,
   "metadata": {
    "id": "PiQiMnNMQTYW"
   },
   "outputs": [],
   "source": []
  },
  {
   "cell_type": "markdown",
   "metadata": {
    "id": "a9cum6IhLbq0"
   },
   "source": [
    "**Ensemble Learning- AdaBoosting**"
   ]
  },
  {
   "cell_type": "code",
   "execution_count": null,
   "metadata": {
    "id": "CaqDbZ5G1WdF"
   },
   "outputs": [],
   "source": [
    "from sklearn.ensemble  import AdaBoostClassifier\n"
   ]
  },
  {
   "cell_type": "markdown",
   "metadata": {
    "id": "gk5Ot8kHOLsF"
   },
   "source": [
    "Estimator as decision tree"
   ]
  },
  {
   "cell_type": "code",
   "execution_count": null,
   "metadata": {
    "colab": {
     "base_uri": "https://localhost:8080/"
    },
    "id": "T02h77VF1V8J",
    "outputId": "9eb7f442-58b7-4410-d1fc-7b899613e596"
   },
   "outputs": [],
   "source": [
    "abcl = AdaBoostClassifier(dt,random_state=10)\n",
    "abcl.fit(xtrain,ytrain)\n",
    "\n",
    "ypred_abcl = abcl.predict(xtest)\n",
    "print(accuracy_score(ytest,ypred_abcl))"
   ]
  },
  {
   "cell_type": "markdown",
   "metadata": {
    "id": "_n63s_IiQpBS"
   },
   "source": [
    "Summarizing the performance"
   ]
  },
  {
   "cell_type": "code",
   "execution_count": null,
   "metadata": {
    "colab": {
     "base_uri": "https://localhost:8080/",
     "height": 582
    },
    "id": "YkmDES-vQtJN",
    "outputId": "496cad1f-3e05-4883-8956-0e4493ea5ce5"
   },
   "outputs": [],
   "source": [
    "update_performance(name = 'AdaBoost-dt', model = abcl,test=ytest,pred=ypred_abcl)\n",
    "\n",
    "# print the dataframe\n",
    "perf_score"
   ]
  },
  {
   "cell_type": "markdown",
   "metadata": {
    "id": "z0ffl4mlOoWk"
   },
   "source": [
    "Estimator as random forest"
   ]
  },
  {
   "cell_type": "code",
   "execution_count": null,
   "metadata": {
    "colab": {
     "base_uri": "https://localhost:8080/"
    },
    "id": "UXU_Z8mwL2E_",
    "outputId": "fc1d428a-6592-4162-a00d-d32fa1691f54"
   },
   "outputs": [],
   "source": [
    "abcl_rf = AdaBoostClassifier(rf_model,random_state=10)\n",
    "abcl_rf.fit(xtrain,ytrain)\n",
    "\n",
    "ypred_abcl_rf = abcl_rf.predict(xtest)\n",
    "print(accuracy_score(ytest,ypred_abcl_rf))"
   ]
  },
  {
   "cell_type": "code",
   "execution_count": null,
   "metadata": {
    "colab": {
     "base_uri": "https://localhost:8080/",
     "height": 613
    },
    "id": "pXYMMe3CQxU_",
    "outputId": "ae344c3b-5127-4ae2-f402-9092055103df"
   },
   "outputs": [],
   "source": [
    "update_performance(name = 'AdaBoost-rf', model = abcl_rf,test=ytest,pred=ypred_abcl_rf)\n",
    "\n",
    "# print the dataframe\n",
    "perf_score"
   ]
  },
  {
   "cell_type": "markdown",
   "metadata": {
    "id": "XrRNs5uUOzPF"
   },
   "source": [
    "Estimator as multinomial naive bayes"
   ]
  },
  {
   "cell_type": "code",
   "execution_count": null,
   "metadata": {
    "colab": {
     "base_uri": "https://localhost:8080/"
    },
    "id": "YGmDZZaYL2B8",
    "outputId": "e6e67a0d-9cd5-407e-bd48-13e7f520c0b2"
   },
   "outputs": [],
   "source": [
    "abcl_mnb = AdaBoostClassifier(mnb,random_state=10)\n",
    "abcl_mnb.fit(xtrain,ytrain)\n",
    "\n",
    "ypred_abcl_mnb = abcl_mnb.predict(xtest)\n",
    "print(accuracy_score(ytest,ypred_abcl_mnb))"
   ]
  },
  {
   "cell_type": "code",
   "execution_count": null,
   "metadata": {
    "colab": {
     "base_uri": "https://localhost:8080/",
     "height": 645
    },
    "id": "q0Jpb8TEQy8a",
    "outputId": "1e0efeba-84ec-4b3b-80f7-2102f13849e7"
   },
   "outputs": [],
   "source": [
    "update_performance(name = 'AdaBoost-mnb', model = abcl_mnb,test=ytest,pred=ypred_abcl_mnb)\n",
    "\n",
    "# print the dataframe\n",
    "perf_score"
   ]
  },
  {
   "cell_type": "markdown",
   "metadata": {
    "id": "4hKXQjzNSE5O"
   },
   "source": [
    "Ensemble Learning - Gradient Boosting"
   ]
  },
  {
   "cell_type": "code",
   "execution_count": null,
   "metadata": {
    "colab": {
     "base_uri": "https://localhost:8080/"
    },
    "id": "bfRvrYCKSMCd",
    "outputId": "5ebd09f5-82f9-4f82-e667-a6b8c79829f1"
   },
   "outputs": [],
   "source": [
    "from sklearn.ensemble import GradientBoostingClassifier\n",
    "gbcl = GradientBoostingClassifier(n_estimators=50,random_state=10)\n",
    "gbcl.fit(xtrain,ytrain)\n",
    "ypred_gbcl = gbcl.predict(xtest)\n",
    "print(accuracy_score(ytest,ypred_gbcl))"
   ]
  },
  {
   "cell_type": "code",
   "execution_count": null,
   "metadata": {
    "colab": {
     "base_uri": "https://localhost:8080/"
    },
    "id": "vVDknxdcSL3F",
    "outputId": "bfbec773-e495-4555-f5ea-eb7bb0084651"
   },
   "outputs": [],
   "source": [
    "gbcl = GradientBoostingClassifier(n_estimators=50,learning_rate=0.5,random_state=10,max_depth=3)\n",
    "gbcl.fit(xtrain,ytrain)\n",
    "ypred_gbcl = gbcl.predict(xtest)\n",
    "print(accuracy_score(ytest,ypred_gbcl))"
   ]
  },
  {
   "cell_type": "code",
   "execution_count": null,
   "metadata": {
    "colab": {
     "base_uri": "https://localhost:8080/"
    },
    "id": "eGfFSuwISLoE",
    "outputId": "88ea2a20-f618-48e0-ffe9-69d061edefd7"
   },
   "outputs": [],
   "source": [
    "gbcl = GradientBoostingClassifier(n_estimators=50,learning_rate=0.5,random_state=10,max_depth=3)\n",
    "gbcl.fit(xtrain,ytrain)\n",
    "ypred_gbcl = gbcl.predict(xtest)\n",
    "print(accuracy_score(ytest,ypred_gbcl))"
   ]
  },
  {
   "cell_type": "markdown",
   "metadata": {
    "id": "Hjk5VQpyRj04"
   },
   "source": [
    "Summarizing the performance"
   ]
  },
  {
   "cell_type": "code",
   "execution_count": null,
   "metadata": {
    "colab": {
     "base_uri": "https://localhost:8080/",
     "height": 676
    },
    "id": "HhlBoby3L1lM",
    "outputId": "52c8f43b-f753-4f27-d0ea-f8a89711ded7"
   },
   "outputs": [],
   "source": [
    "update_performance(name = 'Gradient Boosting', model = gbcl,test=ytest,pred=ypred_gbcl)\n",
    "\n",
    "# print the dataframe\n",
    "perf_score"
   ]
  },
  {
   "cell_type": "markdown",
   "metadata": {
    "id": "70ZrdJQVukjO"
   },
   "source": [
    "XGBOOST"
   ]
  },
  {
   "cell_type": "code",
   "execution_count": null,
   "metadata": {
    "id": "REX199NDu-Nx"
   },
   "outputs": [],
   "source": [
    "# !pip install xgboost"
   ]
  },
  {
   "cell_type": "code",
   "execution_count": null,
   "metadata": {
    "id": "IhMqM40Ruswo"
   },
   "outputs": [],
   "source": [
    "from xgboost import XGBClassifier"
   ]
  },
  {
   "cell_type": "code",
   "execution_count": null,
   "metadata": {
    "colab": {
     "base_uri": "https://localhost:8080/"
    },
    "id": "h-G2RjGxu5YI",
    "outputId": "db0ef70d-995d-4617-b455-fcdc32444dbf"
   },
   "outputs": [],
   "source": [
    "xgb= XGBClassifier(random_state=10)\n",
    "xgb.fit(xtrain,ytrain)\n",
    "\n",
    "\n",
    "ypred_xgb= xgb.predict(xtest)\n",
    "print(accuracy_score(ytest,ypred_xgb))"
   ]
  },
  {
   "cell_type": "code",
   "execution_count": null,
   "metadata": {
    "colab": {
     "base_uri": "https://localhost:8080/"
    },
    "id": "hZb9S_cXuoez",
    "outputId": "68966685-029d-4b59-f6ab-ad3ec6123032"
   },
   "outputs": [],
   "source": [
    "xgb= XGBClassifier(booster='gbtree',gamma=3,max_depth=3, min_child_weight=3,\n",
    "                   n_estimator=50, reg_lambda=1,random_state=10)\n",
    "xgb.fit(xtrain,ytrain)\n",
    "\n",
    "\n",
    "ypred_xgb= xgb.predict(xtest)\n",
    "print(accuracy_score(ytest,ypred_xgb))"
   ]
  },
  {
   "cell_type": "markdown",
   "metadata": {
    "id": "3jxays1SR5Uf"
   },
   "source": [
    "Summarizing the performance"
   ]
  },
  {
   "cell_type": "code",
   "execution_count": null,
   "metadata": {
    "colab": {
     "base_uri": "https://localhost:8080/",
     "height": 707
    },
    "id": "kqe9dIA3FKvV",
    "outputId": "02466990-4b82-4a54-8c8d-063c80c41f0c"
   },
   "outputs": [],
   "source": [
    "update_performance(name = 'XGB', model = xgb,test=ytest,pred=ypred_xgb)\n",
    "\n",
    "# print the dataframe\n",
    "perf_score"
   ]
  },
  {
   "cell_type": "markdown",
   "metadata": {
    "id": "QM3h7WnKzPDX"
   },
   "source": [
    "### STACKING"
   ]
  },
  {
   "cell_type": "code",
   "execution_count": null,
   "metadata": {
    "id": "nm8DtAQQu5UI"
   },
   "outputs": [],
   "source": [
    "from sklearn.ensemble import StackingClassifier"
   ]
  },
  {
   "cell_type": "code",
   "execution_count": null,
   "metadata": {
    "id": "vxr2UWQI0Skv"
   },
   "outputs": [],
   "source": [
    "lr=LogisticRegression()\n",
    "knn=KNeighborsClassifier()\n",
    "dt=DecisionTreeClassifier()"
   ]
  },
  {
   "cell_type": "code",
   "execution_count": null,
   "metadata": {
    "colab": {
     "base_uri": "https://localhost:8080/"
    },
    "id": "_5OqoHwgu474",
    "outputId": "6a2571cd-111d-4cbc-8127-53f6be00465d"
   },
   "outputs": [],
   "source": [
    "base_learners=[('lr_model',lr),('knn_model',knn),('DT_model',dt)]\n",
    "\n",
    "stack =StackingClassifier(estimators=base_learners,\n",
    "                          final_estimator=GaussianNB())\n",
    "\n",
    "stack.fit(xtrain,ytrain)\n",
    "ypred_stack = stack.predict(xtest)\n",
    "print(accuracy_score(ytest,ypred_stack))"
   ]
  },
  {
   "cell_type": "markdown",
   "metadata": {
    "id": "mD--lII7SgwA"
   },
   "source": [
    "Summarizing the performance"
   ]
  },
  {
   "cell_type": "code",
   "execution_count": null,
   "metadata": {
    "colab": {
     "base_uri": "https://localhost:8080/",
     "height": 739
    },
    "id": "7aZpEycrSlE2",
    "outputId": "7532725f-9d97-49b6-9c6b-35386d645514"
   },
   "outputs": [],
   "source": [
    "update_performance(name = 'Stacking', model = stack,test=ytest,pred=ypred_stack)\n",
    "\n",
    "# print the dataframe\n",
    "perf_score"
   ]
  },
  {
   "cell_type": "code",
   "execution_count": null,
   "metadata": {
    "id": "iA0oqJLUSlBn"
   },
   "outputs": [],
   "source": []
  },
  {
   "cell_type": "markdown",
   "metadata": {
    "id": "PupfZ8Sf3xMn"
   },
   "source": [
    "### Voting Classifier"
   ]
  },
  {
   "cell_type": "code",
   "execution_count": null,
   "metadata": {
    "id": "S5hXAGtj31Et"
   },
   "outputs": [],
   "source": [
    "from sklearn.ensemble import VotingClassifier"
   ]
  },
  {
   "cell_type": "code",
   "execution_count": null,
   "metadata": {
    "colab": {
     "base_uri": "https://localhost:8080/"
    },
    "id": "4a9DHcSc4XeA",
    "outputId": "b37aa732-1933-4f73-adc4-8b3f38634799"
   },
   "outputs": [],
   "source": [
    "vote_hard =VotingClassifier(estimators=base_learners )\n",
    "\n",
    "vote_hard.fit(xtrain,ytrain)\n",
    "ypred_vote = vote_hard.predict(xtest)\n",
    "print(accuracy_score(ytest,ypred_vote))"
   ]
  },
  {
   "cell_type": "code",
   "execution_count": null,
   "metadata": {
    "colab": {
     "base_uri": "https://localhost:8080/"
    },
    "id": "pst0vz8b4XZC",
    "outputId": "9b9579f5-37a3-4ff9-af40-9eadcdd9270b"
   },
   "outputs": [],
   "source": [
    "vote_soft =VotingClassifier(estimators=base_learners ,voting='soft')\n",
    "\n",
    "vote_soft.fit(xtrain,ytrain)\n",
    "ypred_vote = vote_soft.predict(xtest)\n",
    "print(accuracy_score(ytest,ypred_vote))"
   ]
  },
  {
   "cell_type": "markdown",
   "metadata": {
    "id": "mryoi-d1TCO4"
   },
   "source": [
    "Summarizing the performance"
   ]
  },
  {
   "cell_type": "code",
   "execution_count": null,
   "metadata": {
    "colab": {
     "base_uri": "https://localhost:8080/",
     "height": 770
    },
    "id": "idUTXFQl4XWJ",
    "outputId": "7e237ac0-ad1b-46ab-ae02-dbd5cf802d47"
   },
   "outputs": [],
   "source": [
    "update_performance(name = 'Voting', model = vote_soft,test=ytest,pred=ypred_vote)\n",
    "\n",
    "# print the dataframe\n",
    "perf_score"
   ]
  },
  {
   "cell_type": "code",
   "execution_count": null,
   "metadata": {
    "id": "3XrHoG4_4XTV"
   },
   "outputs": [],
   "source": []
  },
  {
   "cell_type": "code",
   "execution_count": null,
   "metadata": {},
   "outputs": [],
   "source": []
  },
  {
   "cell_type": "code",
   "execution_count": null,
   "metadata": {},
   "outputs": [],
   "source": []
  },
  {
   "cell_type": "code",
   "execution_count": null,
   "metadata": {},
   "outputs": [],
   "source": []
  },
  {
   "cell_type": "code",
   "execution_count": null,
   "metadata": {},
   "outputs": [],
   "source": []
  },
  {
   "cell_type": "code",
   "execution_count": null,
   "metadata": {},
   "outputs": [],
   "source": []
  },
  {
   "cell_type": "code",
   "execution_count": null,
   "metadata": {},
   "outputs": [],
   "source": []
  },
  {
   "cell_type": "code",
   "execution_count": null,
   "metadata": {},
   "outputs": [],
   "source": []
  },
  {
   "cell_type": "code",
   "execution_count": null,
   "metadata": {},
   "outputs": [],
   "source": []
  },
  {
   "cell_type": "code",
   "execution_count": null,
   "metadata": {},
   "outputs": [],
   "source": []
  },
  {
   "cell_type": "code",
   "execution_count": null,
   "metadata": {},
   "outputs": [],
   "source": []
  },
  {
   "cell_type": "code",
   "execution_count": null,
   "metadata": {},
   "outputs": [],
   "source": []
  },
  {
   "cell_type": "code",
   "execution_count": null,
   "metadata": {},
   "outputs": [],
   "source": []
  },
  {
   "cell_type": "code",
   "execution_count": null,
   "metadata": {},
   "outputs": [],
   "source": []
  },
  {
   "cell_type": "code",
   "execution_count": null,
   "metadata": {},
   "outputs": [],
   "source": []
  },
  {
   "cell_type": "code",
   "execution_count": null,
   "metadata": {},
   "outputs": [],
   "source": []
  },
  {
   "cell_type": "code",
   "execution_count": null,
   "metadata": {},
   "outputs": [],
   "source": []
  },
  {
   "cell_type": "code",
   "execution_count": null,
   "metadata": {},
   "outputs": [],
   "source": []
  },
  {
   "cell_type": "code",
   "execution_count": null,
   "metadata": {},
   "outputs": [],
   "source": []
  },
  {
   "cell_type": "code",
   "execution_count": null,
   "metadata": {},
   "outputs": [],
   "source": []
  },
  {
   "cell_type": "code",
   "execution_count": null,
   "metadata": {},
   "outputs": [],
   "source": []
  },
  {
   "cell_type": "code",
   "execution_count": null,
   "metadata": {},
   "outputs": [],
   "source": []
  },
  {
   "cell_type": "code",
   "execution_count": null,
   "metadata": {
    "id": "hzdH9zDOsTq6"
   },
   "outputs": [],
   "source": [
    "import numpy as np\n",
    "import pandas as pd\n",
    "import matplotlib.pyplot as plt\n",
    "import seaborn as sns"
   ]
  },
  {
   "cell_type": "code",
   "execution_count": null,
   "metadata": {
    "id": "cANud3qqWl1H"
   },
   "outputs": [],
   "source": [
    "plt.rcParams['figure.figsize'] = [15,8]"
   ]
  },
  {
   "cell_type": "markdown",
   "metadata": {
    "id": "Q74Al058W3RE"
   },
   "source": [
    "**Odds and Odds Ratio**"
   ]
  },
  {
   "cell_type": "code",
   "execution_count": null,
   "metadata": {
    "colab": {
     "base_uri": "https://localhost:8080/"
    },
    "id": "Ji-g1JtqWlyV",
    "outputId": "68169cb7-78b0-4364-9b13-df162724c272"
   },
   "outputs": [],
   "source": [
    "# example to display how log odds help to differentiate between the Odds in favour and Odd in against\n",
    "#p=6/10\n",
    "odds_in_favor= 6/4\n",
    "print(\"odds in favour=\",odds_in_favor)\n",
    "\n",
    "print(\"Log of odds\", np.log(odds_in_favor))\n",
    "\n",
    "odds_against= 4/6\n",
    "print(\"odds against =\", odds_against)\n",
    "print(\"Log of odds against\",  np.log(odds_against))\n",
    "\n",
    "# odds are called as likelihoods and log(odds)  log-likelihoods are same in magnitude"
   ]
  },
  {
   "cell_type": "markdown",
   "metadata": {
    "id": "hddGOhzpX3qW"
   },
   "source": [
    "### Logistic Regression - BKT Fish"
   ]
  },
  {
   "cell_type": "code",
   "execution_count": null,
   "metadata": {
    "colab": {
     "base_uri": "https://localhost:8080/"
    },
    "id": "UXqiNt62Wlfb",
    "outputId": "263402bf-1bba-4928-affa-cf300008521c"
   },
   "outputs": [],
   "source": [
    "import statsmodels.api as sm\n",
    "bkt=[1085.33, 1210, 1780.62, 52.4, 200, 2502.67, 301.33,\n",
    "     542, 969.33, 240.56, 1640, 247, 999.99, 1220.76,\n",
    "     150.67, 160, 2816, 760, 1350, 1370]\n",
    "\n",
    "import statsmodels.api as sm\n",
    "bkt=sm.add_constant(bkt)    # Descirptive feature\n",
    "\n",
    "Act_fish=[0, 1, 1, 0, 0, 1, 0, 0, 1, 0, 0, 0, 0, 1, 1, 0, 1, 1, 0, 1]    #target\n",
    "\n",
    "# sm.logit(y,x)\n",
    "logreg = sm.Logit(Act_fish, bkt).fit()\n",
    "\n",
    "\n",
    "# print the summary of the model\n",
    "print(logreg.summary())    #ols.summary()"
   ]
  },
  {
   "cell_type": "code",
   "execution_count": null,
   "metadata": {
    "id": "29L0McXgUK4u"
   },
   "outputs": [],
   "source": [
    "bkt_val=[1085.33, 1210, 1780.62, 52.4, 200, 2502.67, 301.33,\n",
    "     542, 969.33, 240.56, 1640, 247, 999.99, 1220.76,\n",
    "     150.67, 160, 2816, 760, 1350, 1370]"
   ]
  },
  {
   "cell_type": "code",
   "execution_count": null,
   "metadata": {
    "colab": {
     "base_uri": "https://localhost:8080/",
     "height": 621
    },
    "id": "TzRFjhTsOBxy",
    "outputId": "2b3ff512-7e26-4c65-8168-7473b2385ffc"
   },
   "outputs": [],
   "source": [
    "sns.scatterplot(x=bkt_val,y=Act_fish)\n",
    "sns.regplot(x=bkt_val, y=Act_fish)\n",
    "plt.show()"
   ]
  },
  {
   "cell_type": "markdown",
   "metadata": {
    "id": "1SF3B1ghP6Q3"
   },
   "source": [
    "**Sample of Sigmoid Curve - Just an illustration**"
   ]
  },
  {
   "cell_type": "code",
   "execution_count": null,
   "metadata": {
    "colab": {
     "base_uri": "https://localhost:8080/",
     "height": 625
    },
    "id": "NGCEzEhLPhEV",
    "outputId": "9ee7b20e-8ad2-45bf-e168-a10521d50e0c"
   },
   "outputs": [],
   "source": [
    "z=np.arange(-10,10,0.001)\n",
    "sns.lineplot(x=z,  y=1/(1+np.exp(-z)))\n",
    "plt.show()"
   ]
  },
  {
   "cell_type": "markdown",
   "metadata": {
    "id": "mwSK5oxxYbMY"
   },
   "source": [
    "**Prediction from model**"
   ]
  },
  {
   "cell_type": "code",
   "execution_count": null,
   "metadata": {
    "colab": {
     "base_uri": "https://localhost:8080/"
    },
    "id": "Di5PqpqMR70k",
    "outputId": "95d23ed1-25b3-4f37-a339-1577eba8ffe1"
   },
   "outputs": [],
   "source": [
    "logreg.predict(bkt)"
   ]
  },
  {
   "cell_type": "code",
   "execution_count": null,
   "metadata": {
    "id": "pGW5oHW6XvYn"
   },
   "outputs": [],
   "source": [
    "# Its a smaller dataset and hence predicting on the same data\n",
    "# As we are using statsmodel for Logistic, expect the output in terms of probabilities\n",
    "\n",
    "# The output will be probabilities\n",
    "pred_p_fish= logreg.predict(bkt)\n"
   ]
  },
  {
   "cell_type": "code",
   "execution_count": null,
   "metadata": {
    "colab": {
     "base_uri": "https://localhost:8080/"
    },
    "id": "mAtI53B2IRBs",
    "outputId": "747db8ef-c97c-42fc-cbce-f39327037810"
   },
   "outputs": [],
   "source": [
    "bkt\n",
    "# the first value is the constant and the second set of values are the actual value - 1085.33"
   ]
  },
  {
   "cell_type": "markdown",
   "metadata": {
    "id": "7Zh7OrspVXS_"
   },
   "source": [
    "**Lets visualize - how the transformed linear regression line looks like**"
   ]
  },
  {
   "cell_type": "code",
   "execution_count": null,
   "metadata": {
    "colab": {
     "base_uri": "https://localhost:8080/",
     "height": 625
    },
    "id": "_m3fD72IIQ3r",
    "outputId": "10954f8a-5008-4cb7-aa9f-84f53cec02a6"
   },
   "outputs": [],
   "source": [
    "sns.scatterplot(x= bkt[:,1], y= pred_p_fish)\n",
    "plt.show()"
   ]
  },
  {
   "cell_type": "code",
   "execution_count": null,
   "metadata": {
    "colab": {
     "base_uri": "https://localhost:8080/",
     "height": 625
    },
    "id": "fSSEX8c-Ydcl",
    "outputId": "70d4d388-c074-48ae-c001-29df482daa38"
   },
   "outputs": [],
   "source": [
    "sns.scatterplot(x= bkt[:,1], y= pred_p_fish)\n",
    "plt.axhline(0.5,color='red')\n",
    "plt.show()"
   ]
  },
  {
   "cell_type": "markdown",
   "metadata": {
    "id": "AktL5EtxbEX2"
   },
   "source": [
    "**Convert Probabilities into Class of 1 and Class of 0**"
   ]
  },
  {
   "cell_type": "code",
   "execution_count": null,
   "metadata": {
    "colab": {
     "base_uri": "https://localhost:8080/"
    },
    "id": "QjtfOhUBXvSA",
    "outputId": "1896a943-2a4f-4552-ab01-eefdd0c6d532"
   },
   "outputs": [],
   "source": [
    "# convert probabilities to 0 and 1 using 'if_else'\n",
    "y_predp = [ 0 if x < 0.5 else 1 for x in pred_p_fish]\n",
    "print(y_predp, Act_fish)"
   ]
  },
  {
   "cell_type": "markdown",
   "metadata": {
    "id": "QRn3BMe9Yy4b"
   },
   "source": [
    "**Constant and Slope coefficients**"
   ]
  },
  {
   "cell_type": "code",
   "execution_count": null,
   "metadata": {
    "colab": {
     "base_uri": "https://localhost:8080/"
    },
    "id": "9-6z_a61Y9F3",
    "outputId": "39eb0a16-2619-46df-9d7b-9538b03e65db"
   },
   "outputs": [],
   "source": [
    "logreg.params"
   ]
  },
  {
   "cell_type": "code",
   "execution_count": null,
   "metadata": {
    "colab": {
     "base_uri": "https://localhost:8080/"
    },
    "id": "7nJ7rqrOY9Qv",
    "outputId": "f0b79ab8-00a5-4f3f-c44c-f2219bccc902"
   },
   "outputs": [],
   "source": [
    "logodds_equation = -1.9509 + 0.0018  * bkt[:,1]\n",
    "print(logodds_equation)"
   ]
  },
  {
   "cell_type": "code",
   "execution_count": null,
   "metadata": {
    "id": "12Bgx9ePY9U-"
   },
   "outputs": [],
   "source": []
  },
  {
   "cell_type": "code",
   "execution_count": null,
   "metadata": {
    "id": "ged0WjsTIl97"
   },
   "outputs": [],
   "source": [
    "y_fish=np.array(Act_fish)"
   ]
  },
  {
   "cell_type": "code",
   "execution_count": null,
   "metadata": {
    "colab": {
     "base_uri": "https://localhost:8080/"
    },
    "id": "yeb97mLyewzF",
    "outputId": "382d8674-f423-49af-a551-50423ed72ff7"
   },
   "outputs": [],
   "source": [
    "pred_p_fish"
   ]
  },
  {
   "cell_type": "code",
   "execution_count": null,
   "metadata": {
    "colab": {
     "base_uri": "https://localhost:8080/"
    },
    "id": "pCkh1ZqrIRLP",
    "outputId": "04b107aa-0d6b-4c2a-a9d6-8799271fb9dc"
   },
   "outputs": [],
   "source": [
    "def likelihood(yi, pred_p):\n",
    "    lkd=((pred_p)**yi) * ((1-pred_p) **(1-yi))\n",
    "    return lkd\n",
    "\n",
    "lkd=likelihood(y_fish, pred_p_fish)\n",
    "print(lkd)"
   ]
  },
  {
   "cell_type": "code",
   "execution_count": null,
   "metadata": {
    "colab": {
     "base_uri": "https://localhost:8080/"
    },
    "id": "_yVAyIpYIRGD",
    "outputId": "23742379-c5a3-46eb-e6c7-d5118fd4ee0f"
   },
   "outputs": [],
   "source": [
    "LL_fitted = np.log(np.prod(lkd))\n",
    "LL_fitted"
   ]
  },
  {
   "cell_type": "markdown",
   "metadata": {
    "id": "P0hBFKticDiM"
   },
   "source": [
    "**Beta coefficients **"
   ]
  },
  {
   "cell_type": "code",
   "execution_count": null,
   "metadata": {
    "colab": {
     "base_uri": "https://localhost:8080/"
    },
    "id": "8S6Bu90NXvPk",
    "outputId": "6b5013e4-d2f6-4f93-9897-8310a270e6ee"
   },
   "outputs": [],
   "source": [
    "logreg.params"
   ]
  },
  {
   "cell_type": "code",
   "execution_count": null,
   "metadata": {
    "colab": {
     "base_uri": "https://localhost:8080/"
    },
    "id": "IiF4dY0_cS01",
    "outputId": "25be1929-17be-4639-92f7-ada0d00d82d2"
   },
   "outputs": [],
   "source": [
    "# These are the x values- density of the BKT Fish Which is the x independent variable.\n",
    "bkt[:,1]"
   ]
  },
  {
   "cell_type": "code",
   "execution_count": null,
   "metadata": {
    "colab": {
     "base_uri": "https://localhost:8080/"
    },
    "id": "_7l0wwjBXvNL",
    "outputId": "fed9e95e-b98c-44cc-a967-a41709095597"
   },
   "outputs": [],
   "source": [
    "# expressing the logodds and linear regression line\n",
    "\n",
    "lgodds = -1.9509 + 0.0018  * bkt[:,1] #this is between -inf to inf.Here bkt[:,1] means take all rows and from first column(exclude constant)\n",
    "print(lgodds)"
   ]
  },
  {
   "cell_type": "code",
   "execution_count": null,
   "metadata": {
    "id": "PIzt7mTHXvF2"
   },
   "outputs": [],
   "source": []
  },
  {
   "cell_type": "markdown",
   "metadata": {
    "id": "l2g5T9Wqkrls"
   },
   "source": [
    "### Null Model"
   ]
  },
  {
   "cell_type": "code",
   "execution_count": null,
   "metadata": {
    "id": "9qVB8Bexkp3A"
   },
   "outputs": [],
   "source": [
    "def lik_fit(yi, pred_p):     # yi is the target column and pred_p are the probs predicted from logit\n",
    "    lkd=((pred_p)**yi) * ((1-pred_p) **(1-yi))\n",
    "    #print(lkd)\n",
    "    ll_lkd=np.log(np.prod(lkd))\n",
    "    return(ll_lkd)"
   ]
  },
  {
   "cell_type": "code",
   "execution_count": null,
   "metadata": {
    "colab": {
     "base_uri": "https://localhost:8080/"
    },
    "id": "-TAbGDa5kp7Y",
    "outputId": "b8020439-c49b-48ff-e4ef-9f3e5db53dbb"
   },
   "outputs": [],
   "source": [
    "# there are 11 0's and 9 1's . P(0) = 11/20 and P(1) = 9/20\n",
    "# 0 - 0.55  1 - 0.45\n",
    "null_fish=np.array([0.55,0.45,0.45,0.55,0.55,\n",
    "                    0.45,0.55,0.55,0.45,0.55,\n",
    "                    0.55,0.55,0.55,0.45,0.45,\n",
    "                    0.55,0.45,0.45,0.55,0.45])    # probs predicted from null model\n",
    "print(null_fish )                       # these are the probabilities predicted from null model\n",
    "\n",
    "LL_null = lik_fit(y_fish, null_fish)\n",
    "print(LL_null)"
   ]
  },
  {
   "cell_type": "code",
   "execution_count": null,
   "metadata": {
    "colab": {
     "base_uri": "https://localhost:8080/"
    },
    "id": "sUPUVVoZkqA1",
    "outputId": "3effebb9-3468-4f4a-cd33-182097dc532b"
   },
   "outputs": [],
   "source": [
    "# sometimes the algorithm goes and defaults the prediction to 0.50 instead of calculating as given above.\n",
    "# this is what it has done here. Default is being set to 0.50. Equally probable\n",
    "\n",
    "null_fish=np.array([0.50,0.50,0.50,0.50,0.50,\n",
    "                    0.50,0.50,0.50,0.50,0.50,\n",
    "                    0.50,0.50,0.50,0.50,0.50,\n",
    "                    0.50,0.50,0.50,0.50,0.50])    # probs predicted from null model\n",
    "print(null_fish )                       # these are the probabilities predicted from null model\n",
    "\n",
    "LL_null = lik_fit(y_fish, null_fish)\n",
    "print(LL_null)"
   ]
  },
  {
   "cell_type": "markdown",
   "metadata": {
    "id": "_5XpnyvHnYU3"
   },
   "source": [
    "### Saturated Model"
   ]
  },
  {
   "cell_type": "code",
   "execution_count": null,
   "metadata": {
    "colab": {
     "base_uri": "https://localhost:8080/"
    },
    "id": "8v7L2k46kqPw",
    "outputId": "09c61235-7f67-4cf4-f50d-722c10a8e807"
   },
   "outputs": [],
   "source": [
    "## Loglikelihood of the saturated Model\n",
    "# A saturated model is one which is perfect i.e it predicts all 0s as 0s and all 1s as 1s\n",
    "# so predictions from the perfect model are same as the target values\n",
    "\n",
    "per_fish = y_fish     # probabilities predicted form the saturated model are the same as true values\n",
    "LL_saturated = lik_fit(y_fish, per_fish)\n",
    "print(LL_saturated)"
   ]
  },
  {
   "cell_type": "markdown",
   "metadata": {
    "id": "SA9WdClGnoT4"
   },
   "source": [
    "### LogLikelihood of the Models"
   ]
  },
  {
   "cell_type": "code",
   "execution_count": null,
   "metadata": {
    "colab": {
     "base_uri": "https://localhost:8080/"
    },
    "id": "_2fk4sttkqYk",
    "outputId": "c8eead37-e67c-4ab7-8266-7c56c93cd453"
   },
   "outputs": [],
   "source": [
    "print(\"LL_fitted =\",LL_fitted)\n",
    "print(\"LL_null =\",LL_null)\n",
    "print(\"LL_saturated =\",LL_saturated)"
   ]
  },
  {
   "cell_type": "markdown",
   "metadata": {
    "id": "oRMilxCanw1v"
   },
   "source": [
    "### Deviance of Models"
   ]
  },
  {
   "cell_type": "markdown",
   "metadata": {
    "id": "_QcZYUyhoINH"
   },
   "source": [
    "**Fitted Models**"
   ]
  },
  {
   "cell_type": "code",
   "execution_count": null,
   "metadata": {
    "colab": {
     "base_uri": "https://localhost:8080/"
    },
    "id": "lWRIVeMTkqf4",
    "outputId": "d01d0f9e-fea4-431f-b489-a27c02aad736"
   },
   "outputs": [],
   "source": [
    "dev_residual = -2*(LL_fitted)\n",
    "print(\"Deviance residual=\",dev_residual)"
   ]
  },
  {
   "cell_type": "markdown",
   "metadata": {
    "id": "eSY_LYWpoLXn"
   },
   "source": [
    "**Null Model**"
   ]
  },
  {
   "cell_type": "code",
   "execution_count": null,
   "metadata": {
    "colab": {
     "base_uri": "https://localhost:8080/"
    },
    "id": "tWSAZPC7n8iI",
    "outputId": "0914fc4d-2c2d-465c-c9f1-c2854184dadb"
   },
   "outputs": [],
   "source": [
    "dev_null=-2 *(LL_null)\n",
    "print(\"Null_deviance\",dev_null)"
   ]
  },
  {
   "cell_type": "markdown",
   "metadata": {
    "id": "4bdXwEALoXH4"
   },
   "source": [
    "**How far is Fitted from Null**"
   ]
  },
  {
   "cell_type": "code",
   "execution_count": null,
   "metadata": {
    "colab": {
     "base_uri": "https://localhost:8080/"
    },
    "id": "RJsnv5yPn8pF",
    "outputId": "06666ec9-1a81-4217-96fd-0fc1f928eee3"
   },
   "outputs": [],
   "source": [
    "dev_model = dev_null - dev_residual\n",
    "print(\"The deviance of Model is =\", dev_model)"
   ]
  },
  {
   "cell_type": "markdown",
   "metadata": {
    "id": "ozypgcT0ofUl"
   },
   "source": [
    "**McFadden R2**"
   ]
  },
  {
   "cell_type": "code",
   "execution_count": null,
   "metadata": {
    "colab": {
     "base_uri": "https://localhost:8080/"
    },
    "id": "3lwzU5AHn8vL",
    "outputId": "c21ed229-a71c-4531-f07d-a83f4c8417aa"
   },
   "outputs": [],
   "source": [
    "# pseudo r2\n",
    "# Mcfadden R2 1- llf/llr\n",
    "mcf_r2=1-(logreg.llf/logreg.llnull)    # both values from model.summary()\n",
    "mcf_r2\n",
    "\n",
    "# we want  llf to be much smaller in magnitude than llnull\n",
    "# Mcfadden r2 should be closer to 1 for a good model\n",
    "# This is like the r2squared of Linear Regression"
   ]
  },
  {
   "cell_type": "markdown",
   "metadata": {
    "id": "0zdTMKSIoq32"
   },
   "source": [
    "**Akakike Information Criteria**"
   ]
  },
  {
   "cell_type": "code",
   "execution_count": null,
   "metadata": {
    "colab": {
     "base_uri": "https://localhost:8080/"
    },
    "id": "Z9BlSvvcn8zY",
    "outputId": "9fbb6e01-71c9-4b74-bc74-6345cbba6fb8"
   },
   "outputs": [],
   "source": [
    "# AIC(Akaike Information Criterai)\n",
    "\n",
    "aic = -2* logreg.llf + 2*2    # Here k=2 since beta0 to beta1 are to be estimated\n",
    "print(\"aic:=\", aic)\n",
    "\n",
    "print(\"The AIC value\", logreg.aic)"
   ]
  },
  {
   "cell_type": "code",
   "execution_count": null,
   "metadata": {
    "id": "9GnjKKkqoxgu"
   },
   "outputs": [],
   "source": []
  },
  {
   "cell_type": "code",
   "execution_count": null,
   "metadata": {
    "id": "zg903nAcoxkr"
   },
   "outputs": [],
   "source": []
  }
 ],
 "metadata": {
  "colab": {
   "provenance": []
  },
  "kernelspec": {
   "display_name": "Python 3 (ipykernel)",
   "language": "python",
   "name": "python3"
  },
  "language_info": {
   "codemirror_mode": {
    "name": "ipython",
    "version": 3
   },
   "file_extension": ".py",
   "mimetype": "text/x-python",
   "name": "python",
   "nbconvert_exporter": "python",
   "pygments_lexer": "ipython3",
   "version": "3.10.9"
  }
 },
 "nbformat": 4,
 "nbformat_minor": 4
}
